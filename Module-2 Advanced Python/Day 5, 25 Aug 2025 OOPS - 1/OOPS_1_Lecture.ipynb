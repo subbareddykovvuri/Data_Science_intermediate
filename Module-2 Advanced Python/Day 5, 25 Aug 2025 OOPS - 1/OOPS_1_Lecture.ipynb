{
  "nbformat": 4,
  "nbformat_minor": 0,
  "metadata": {
    "colab": {
      "provenance": []
    },
    "kernelspec": {
      "name": "python3",
      "display_name": "Python 3"
    },
    "language_info": {
      "name": "python"
    }
  },
  "cells": [
    {
      "cell_type": "code",
      "execution_count": null,
      "metadata": {
        "id": "QKGpbncexQ5X"
      },
      "outputs": [],
      "source": [
        "def bubble_sort(a):\n",
        "  for i in range(len(a)):\n",
        "    for j in range(i,len(a)-1):\n",
        "      if a[j] > a[j+1]:\n",
        "        a[j],a[j+1] = a[j+1],a[j]\n",
        "  return a"
      ]
    },
    {
      "cell_type": "code",
      "source": [
        "a = [1,5,2,4,7,3]\n",
        "bubble_sort(a)"
      ],
      "metadata": {
        "colab": {
          "base_uri": "https://localhost:8080/"
        },
        "id": "x3UN7VXN49b4",
        "outputId": "bd595d42-6578-4622-d636-326ca24dc36f"
      },
      "execution_count": null,
      "outputs": [
        {
          "output_type": "execute_result",
          "data": {
            "text/plain": [
              "[1, 2, 3, 4, 5, 7]"
            ]
          },
          "metadata": {},
          "execution_count": 23
        }
      ]
    },
    {
      "cell_type": "code",
      "source": [
        "#OOPS\n",
        "class Student:\n",
        "  #methods\n",
        "  #properties\n",
        "  pass"
      ],
      "metadata": {
        "id": "NHyavXPI5EiE"
      },
      "execution_count": null,
      "outputs": []
    },
    {
      "cell_type": "code",
      "source": [],
      "metadata": {
        "id": "bVr7OrQg_L3w"
      },
      "execution_count": null,
      "outputs": []
    },
    {
      "cell_type": "code",
      "source": [
        "isinstance(Student,object)"
      ],
      "metadata": {
        "colab": {
          "base_uri": "https://localhost:8080/"
        },
        "id": "TcV3Zr3Q6zQO",
        "outputId": "39042d66-851f-4eb9-af2a-35ac14c142a6"
      },
      "execution_count": null,
      "outputs": [
        {
          "output_type": "execute_result",
          "data": {
            "text/plain": [
              "True"
            ]
          },
          "metadata": {},
          "execution_count": 25
        }
      ]
    },
    {
      "cell_type": "code",
      "source": [
        "myobj = Student()"
      ],
      "metadata": {
        "id": "x3nDiXDW-x6Q"
      },
      "execution_count": null,
      "outputs": []
    },
    {
      "cell_type": "code",
      "source": [
        "type(myobj)"
      ],
      "metadata": {
        "colab": {
          "base_uri": "https://localhost:8080/"
        },
        "id": "otNjFS-e-_en",
        "outputId": "9ce6f5ec-1935-47d4-d75a-1149bd1296e8"
      },
      "execution_count": null,
      "outputs": [
        {
          "output_type": "execute_result",
          "data": {
            "text/plain": [
              "__main__.Student"
            ]
          },
          "metadata": {},
          "execution_count": 27
        }
      ]
    },
    {
      "cell_type": "code",
      "source": [
        "isinstance(myobj,Student)"
      ],
      "metadata": {
        "colab": {
          "base_uri": "https://localhost:8080/"
        },
        "id": "fGhrENdt_DRR",
        "outputId": "e313978f-f7a1-40d6-8fd1-b0e3c04c24d8"
      },
      "execution_count": null,
      "outputs": [
        {
          "output_type": "execute_result",
          "data": {
            "text/plain": [
              "True"
            ]
          },
          "metadata": {},
          "execution_count": 29
        }
      ]
    },
    {
      "cell_type": "code",
      "source": [
        "isinstance(myobj,object)"
      ],
      "metadata": {
        "colab": {
          "base_uri": "https://localhost:8080/"
        },
        "id": "zpx1BBMV_ZnP",
        "outputId": "d4811fb9-83de-4e7e-c0b9-7ef057269ed8"
      },
      "execution_count": null,
      "outputs": [
        {
          "output_type": "execute_result",
          "data": {
            "text/plain": [
              "True"
            ]
          },
          "metadata": {},
          "execution_count": 30
        }
      ]
    },
    {
      "cell_type": "code",
      "source": [
        "s1 = Student()\n",
        "s1.name = \"Satya\""
      ],
      "metadata": {
        "id": "wmg7vwzZ_n0l"
      },
      "execution_count": null,
      "outputs": []
    },
    {
      "cell_type": "code",
      "source": [
        "s1.name"
      ],
      "metadata": {
        "colab": {
          "base_uri": "https://localhost:8080/",
          "height": 36
        },
        "id": "_o6_tccDDkcl",
        "outputId": "c5a45cbf-6a7a-4e84-9953-e129abe670b5"
      },
      "execution_count": null,
      "outputs": [
        {
          "output_type": "execute_result",
          "data": {
            "text/plain": [
              "'Satya'"
            ],
            "application/vnd.google.colaboratory.intrinsic+json": {
              "type": "string"
            }
          },
          "metadata": {},
          "execution_count": 33
        }
      ]
    },
    {
      "cell_type": "code",
      "source": [
        "s2 = s1\n",
        "s2.name"
      ],
      "metadata": {
        "colab": {
          "base_uri": "https://localhost:8080/",
          "height": 36
        },
        "id": "rJ-FEI-zDwDe",
        "outputId": "f8912e7a-b56c-48e9-9d0d-113aaa5e80af"
      },
      "execution_count": null,
      "outputs": [
        {
          "output_type": "execute_result",
          "data": {
            "text/plain": [
              "'Satya'"
            ],
            "application/vnd.google.colaboratory.intrinsic+json": {
              "type": "string"
            }
          },
          "metadata": {},
          "execution_count": 34
        }
      ]
    },
    {
      "cell_type": "code",
      "source": [
        "class Student:\n",
        "  def hello():\n",
        "    print(\"Hello Team!!\")"
      ],
      "metadata": {
        "id": "sMqBcwhGEAzy"
      },
      "execution_count": null,
      "outputs": []
    },
    {
      "cell_type": "code",
      "source": [
        "s2 = Student()"
      ],
      "metadata": {
        "id": "nrMR9kY9GiP2"
      },
      "execution_count": null,
      "outputs": []
    },
    {
      "cell_type": "code",
      "source": [
        "s2.hello()\n",
        "#Student.hello(s2)"
      ],
      "metadata": {
        "colab": {
          "base_uri": "https://localhost:8080/",
          "height": 149
        },
        "id": "gg8aSSEeG2GA",
        "outputId": "c9caa3f7-3af2-4175-9a0e-8350be880296"
      },
      "execution_count": null,
      "outputs": [
        {
          "output_type": "error",
          "ename": "TypeError",
          "evalue": "Student.hello() takes 0 positional arguments but 1 was given",
          "traceback": [
            "\u001b[0;31m---------------------------------------------------------------------------\u001b[0m",
            "\u001b[0;31mTypeError\u001b[0m                                 Traceback (most recent call last)",
            "\u001b[0;32m/tmp/ipython-input-2657862457.py\u001b[0m in \u001b[0;36m<cell line: 0>\u001b[0;34m()\u001b[0m\n\u001b[0;32m----> 1\u001b[0;31m \u001b[0ms2\u001b[0m\u001b[0;34m.\u001b[0m\u001b[0mhello\u001b[0m\u001b[0;34m(\u001b[0m\u001b[0;34m)\u001b[0m\u001b[0;34m\u001b[0m\u001b[0;34m\u001b[0m\u001b[0m\n\u001b[0m",
            "\u001b[0;31mTypeError\u001b[0m: Student.hello() takes 0 positional arguments but 1 was given"
          ]
        }
      ]
    },
    {
      "cell_type": "code",
      "source": [
        "class Student:\n",
        "  def hello(self):\n",
        "    print(\"Hello Team!!\")\n",
        "    print(id(self))"
      ],
      "metadata": {
        "id": "lT7yjy9ZHEQR"
      },
      "execution_count": null,
      "outputs": []
    },
    {
      "cell_type": "code",
      "source": [
        "s1 = Student()\n",
        "print(id(s1))\n",
        "s1.hello()"
      ],
      "metadata": {
        "colab": {
          "base_uri": "https://localhost:8080/"
        },
        "id": "Y_EdFx1vHl5P",
        "outputId": "9f4c8a35-0f34-488a-ffa7-068db21d31ca"
      },
      "execution_count": null,
      "outputs": [
        {
          "output_type": "stream",
          "name": "stdout",
          "text": [
            "139350600948464\n",
            "Hello Team!!\n",
            "139350600948464\n"
          ]
        }
      ]
    },
    {
      "cell_type": "code",
      "source": [
        "class Student:\n",
        "    def __init__(self, name, age):\n",
        "        self.name = name\n",
        "        #this will create property name on current object \"self\"\n",
        "        self.age = age\n",
        "\n",
        "    def study(self):\n",
        "      print(\"lemme watch movie\")"
      ],
      "metadata": {
        "id": "kMWzdvF4HsKc"
      },
      "execution_count": null,
      "outputs": []
    },
    {
      "cell_type": "code",
      "source": [
        "s1 = Student(\"Vaishali\", 5000)\n",
        "#Student.__init__(s1,Vaishali,5000)"
      ],
      "metadata": {
        "id": "vcPslR8-IE4i"
      },
      "execution_count": null,
      "outputs": []
    },
    {
      "cell_type": "code",
      "source": [
        "print(s1.name)\n",
        "print(s1.age)"
      ],
      "metadata": {
        "colab": {
          "base_uri": "https://localhost:8080/"
        },
        "id": "dT-RTporIHiM",
        "outputId": "4fce8cee-df7c-44c8-a190-de6e056c2715"
      },
      "execution_count": null,
      "outputs": [
        {
          "output_type": "stream",
          "name": "stdout",
          "text": [
            "Vaishali\n",
            "5000\n"
          ]
        }
      ]
    },
    {
      "cell_type": "code",
      "source": [
        "class Dog:\n",
        "  kind = \"Canine\"\n",
        "\n",
        "  def __init__(self,name):\n",
        "    self.name = name"
      ],
      "metadata": {
        "id": "uYjnPNZ_IWwX"
      },
      "execution_count": null,
      "outputs": []
    },
    {
      "cell_type": "code",
      "source": [
        "d1 = Dog(\"Tuffy\")\n",
        "d2 = Dog(\"Scooby\")"
      ],
      "metadata": {
        "id": "jwoo4fRzIw5O"
      },
      "execution_count": null,
      "outputs": []
    },
    {
      "cell_type": "code",
      "source": [
        "d1.name"
      ],
      "metadata": {
        "colab": {
          "base_uri": "https://localhost:8080/",
          "height": 36
        },
        "id": "UBZvLDM2I2vw",
        "outputId": "1a3a75d4-5a78-4c21-a305-135dc16d057b"
      },
      "execution_count": null,
      "outputs": [
        {
          "output_type": "execute_result",
          "data": {
            "text/plain": [
              "'Tuffy'"
            ],
            "application/vnd.google.colaboratory.intrinsic+json": {
              "type": "string"
            }
          },
          "metadata": {},
          "execution_count": 50
        }
      ]
    },
    {
      "cell_type": "code",
      "source": [
        "d1.kind"
      ],
      "metadata": {
        "colab": {
          "base_uri": "https://localhost:8080/",
          "height": 36
        },
        "id": "hWCd2f-dI358",
        "outputId": "6431df87-5ecb-46b7-905e-7b257d45f4bd"
      },
      "execution_count": null,
      "outputs": [
        {
          "output_type": "execute_result",
          "data": {
            "text/plain": [
              "'Canine'"
            ],
            "application/vnd.google.colaboratory.intrinsic+json": {
              "type": "string"
            }
          },
          "metadata": {},
          "execution_count": 51
        }
      ]
    },
    {
      "cell_type": "code",
      "source": [
        "d2.kind"
      ],
      "metadata": {
        "colab": {
          "base_uri": "https://localhost:8080/",
          "height": 36
        },
        "id": "UvT3ZmT0JCQn",
        "outputId": "cef6315a-8ce1-4c56-e77a-ecb684050283"
      },
      "execution_count": null,
      "outputs": [
        {
          "output_type": "execute_result",
          "data": {
            "text/plain": [
              "'Canine'"
            ],
            "application/vnd.google.colaboratory.intrinsic+json": {
              "type": "string"
            }
          },
          "metadata": {},
          "execution_count": 52
        }
      ]
    },
    {
      "cell_type": "code",
      "source": [
        "Dog.kind = \"Some Random Stuff\""
      ],
      "metadata": {
        "id": "O83gaoXIJIM5"
      },
      "execution_count": null,
      "outputs": []
    },
    {
      "cell_type": "code",
      "source": [
        "print(d1.kind+ \" ok okokokoko \",d2.kind)"
      ],
      "metadata": {
        "colab": {
          "base_uri": "https://localhost:8080/"
        },
        "id": "wRmLpnuDJMN1",
        "outputId": "5919ae53-0449-47cb-a22f-5ffed7ca4647"
      },
      "execution_count": null,
      "outputs": [
        {
          "output_type": "stream",
          "name": "stdout",
          "text": [
            "Something ok okokokoko  Some Random Stuff\n"
          ]
        }
      ]
    },
    {
      "cell_type": "code",
      "source": [
        "d1.kind = \"Something\"\n",
        "#print(d1.kind+ \" ok okokokoko \",d2.kind)"
      ],
      "metadata": {
        "id": "cLmsQjxTJb8a"
      },
      "execution_count": null,
      "outputs": []
    },
    {
      "cell_type": "code",
      "source": [
        "class Dog:\n",
        "     tricks = []\n",
        "\n",
        "     def __init__(self, name):\n",
        "        self.name = name\n",
        "\n",
        "     def teach_trick(self, trick):\n",
        "        self.tricks.append(trick)"
      ],
      "metadata": {
        "id": "LedTdBeJJpF2"
      },
      "execution_count": null,
      "outputs": []
    },
    {
      "cell_type": "code",
      "source": [
        "d1 = Dog(\"pupy\")\n",
        "#Dog.__init__(d1,name)\n",
        "d2 = Dog(\"tommy\")"
      ],
      "metadata": {
        "id": "loeDdTXCKfVy"
      },
      "execution_count": null,
      "outputs": []
    },
    {
      "cell_type": "code",
      "source": [
        "print(d1.tricks)\n",
        "print(d2.tricks)"
      ],
      "metadata": {
        "colab": {
          "base_uri": "https://localhost:8080/"
        },
        "id": "gqNOAvR0Kh5O",
        "outputId": "4ec9d8c6-4827-4f1c-9543-77c2605e5328"
      },
      "execution_count": null,
      "outputs": [
        {
          "output_type": "stream",
          "name": "stdout",
          "text": [
            "[]\n",
            "[]\n"
          ]
        }
      ]
    },
    {
      "cell_type": "code",
      "source": [
        "print(d1.name)\n",
        "print(d2.name)"
      ],
      "metadata": {
        "colab": {
          "base_uri": "https://localhost:8080/"
        },
        "id": "R7J_sJNjLC2R",
        "outputId": "ffa28a2c-d21c-44d0-91e7-cfe98fc6bb98"
      },
      "execution_count": null,
      "outputs": [
        {
          "output_type": "stream",
          "name": "stdout",
          "text": [
            "pupy\n",
            "tommy\n"
          ]
        }
      ]
    },
    {
      "cell_type": "code",
      "source": [
        "d1.teach_trick(\"jump\")\n",
        "d1.tricks"
      ],
      "metadata": {
        "colab": {
          "base_uri": "https://localhost:8080/"
        },
        "id": "L82qbSRzLEwY",
        "outputId": "dab43f3b-25cd-449a-a7e5-8b953ceaae15"
      },
      "execution_count": null,
      "outputs": [
        {
          "output_type": "execute_result",
          "data": {
            "text/plain": [
              "['jump']"
            ]
          },
          "metadata": {},
          "execution_count": 64
        }
      ]
    },
    {
      "cell_type": "code",
      "source": [
        "d2.tricks"
      ],
      "metadata": {
        "colab": {
          "base_uri": "https://localhost:8080/"
        },
        "id": "iJk47pZGLQQ8",
        "outputId": "0c4e8d23-435c-4f2a-8d89-aaccbed9b26f"
      },
      "execution_count": null,
      "outputs": [
        {
          "output_type": "execute_result",
          "data": {
            "text/plain": [
              "['jump']"
            ]
          },
          "metadata": {},
          "execution_count": 65
        }
      ]
    },
    {
      "cell_type": "code",
      "source": [
        "d2.tricks = \"Eat\"\n",
        "\n",
        "print(d1.tricks,\" \",d2.tricks)"
      ],
      "metadata": {
        "colab": {
          "base_uri": "https://localhost:8080/"
        },
        "id": "yjdpvr15Lt0T",
        "outputId": "4693c0a7-6c5b-4b21-f789-0ba44df53ec0"
      },
      "execution_count": null,
      "outputs": [
        {
          "output_type": "stream",
          "name": "stdout",
          "text": [
            "['jump']   Eat\n"
          ]
        }
      ]
    },
    {
      "cell_type": "code",
      "source": [
        "class Dog:\n",
        "    dog_count = 10\n",
        "\n",
        "    def __init__(self, name, breed, age):\n",
        "        self.name = name\n",
        "        self.breed = breed\n",
        "        self.age = age\n",
        "        print(f\" created: {self.name}, {self.breed}, {self.age} years old\")\n",
        "\n",
        "    def bark(self):\n",
        "        print(f\"{self.name} says: Woof! 🐶\")\n",
        "\n",
        "    def info(self):\n",
        "        print(f\"Name: {self.name}, Breed: {self.breed}, Age: {self.age}\")\n",
        "\n",
        "    def count(numbr):\n",
        "        dog_count = numbr"
      ],
      "metadata": {
        "id": "Vt5tIyOjMCzF"
      },
      "execution_count": null,
      "outputs": []
    },
    {
      "cell_type": "code",
      "source": [
        "d1 = Dog(\"Bruno\",\"Labrador\",3)\n",
        "d2 = Dog(\"Tomy\",\"Beagie\",5)"
      ],
      "metadata": {
        "colab": {
          "base_uri": "https://localhost:8080/"
        },
        "id": "LQfR1fj7NwBw",
        "outputId": "b492dffa-e8bf-4245-c50b-9e145154a62b"
      },
      "execution_count": null,
      "outputs": [
        {
          "output_type": "stream",
          "name": "stdout",
          "text": [
            " created: Bruno, Labrador, 3 years old\n",
            " created: Tomy, Beagie, 5 years old\n"
          ]
        }
      ]
    },
    {
      "cell_type": "code",
      "source": [
        "d1.bark()"
      ],
      "metadata": {
        "colab": {
          "base_uri": "https://localhost:8080/"
        },
        "id": "Tckd07HgOPEP",
        "outputId": "164e4477-843c-46f9-8e98-fe931c2021cc"
      },
      "execution_count": null,
      "outputs": [
        {
          "output_type": "stream",
          "name": "stdout",
          "text": [
            "Bruno says: Woof! 🐶\n"
          ]
        }
      ]
    },
    {
      "cell_type": "code",
      "source": [
        "d2.bark()\n",
        "\n",
        "print(d1.dog_count,d2.dog_count)"
      ],
      "metadata": {
        "colab": {
          "base_uri": "https://localhost:8080/"
        },
        "id": "F_-IeHyqOf_-",
        "outputId": "890534b5-1286-4ae4-8cc7-b79c91f163c7"
      },
      "execution_count": null,
      "outputs": [
        {
          "output_type": "stream",
          "name": "stdout",
          "text": [
            "Tomy says: Woof! 🐶\n",
            "10 10\n"
          ]
        }
      ]
    },
    {
      "cell_type": "code",
      "source": [
        "d3 = Dog(\"Rocky\",\"German Shepard\",2)\n",
        "print(d1.dog_count,d2.dog_count,d3.dog_count)"
      ],
      "metadata": {
        "colab": {
          "base_uri": "https://localhost:8080/"
        },
        "id": "6gbcJC0nOhZZ",
        "outputId": "c025c5d2-ef47-4237-ef9c-e63ed3a9a741"
      },
      "execution_count": null,
      "outputs": [
        {
          "output_type": "stream",
          "name": "stdout",
          "text": [
            " created: Rocky, German Shepard, 2 years old\n",
            "10 10 10\n"
          ]
        }
      ]
    },
    {
      "cell_type": "code",
      "source": [
        "#d3.count(11)\n",
        "#d2.count(20)"
      ],
      "metadata": {
        "id": "frb-9QS2Ovmf"
      },
      "execution_count": null,
      "outputs": []
    },
    {
      "cell_type": "code",
      "source": [
        "print(d1.dog_count,\" # \", d2.dog_count,\" $ \",d3.dog_count)"
      ],
      "metadata": {
        "colab": {
          "base_uri": "https://localhost:8080/"
        },
        "id": "-kEb4HD-Oytf",
        "outputId": "9765566f-7f59-4fb8-b78f-600eba0f746e"
      },
      "execution_count": null,
      "outputs": [
        {
          "output_type": "stream",
          "name": "stdout",
          "text": [
            "10  #  10  $  10\n"
          ]
        }
      ]
    },
    {
      "cell_type": "code",
      "source": [
        "class Student:\n",
        "  school = \"ABC High School\"\n",
        "\n",
        "  def __init__(self, name, age):\n",
        "    self.name = name\n",
        "    self.age = age"
      ],
      "metadata": {
        "id": "AkS6EhfpPTGY"
      },
      "execution_count": null,
      "outputs": []
    },
    {
      "cell_type": "code",
      "source": [
        "s1 = Student(\"Amit\", 20)\n",
        "s2 = Student(\"Rahul\", 22)"
      ],
      "metadata": {
        "id": "QfH8h-LgQ9Fc"
      },
      "execution_count": null,
      "outputs": []
    },
    {
      "cell_type": "code",
      "source": [
        "print(s1.name, s1.age, s1.school)\n",
        "print(s2.name, s2.age, s2.school)"
      ],
      "metadata": {
        "colab": {
          "base_uri": "https://localhost:8080/"
        },
        "id": "ZUxoiyI9Q9c-",
        "outputId": "4bd3c9f4-0176-4ce9-a173-2bb69ec0e0da"
      },
      "execution_count": null,
      "outputs": [
        {
          "output_type": "stream",
          "name": "stdout",
          "text": [
            "Amit 20 ABC High School\n",
            "Rahul 22 ABC High School\n"
          ]
        }
      ]
    },
    {
      "cell_type": "code",
      "source": [
        "Student.school = \"XYZ Academy\"\n",
        "\n",
        "print(s1.school,s2.school)"
      ],
      "metadata": {
        "colab": {
          "base_uri": "https://localhost:8080/"
        },
        "id": "4Zn5pN8eRA6S",
        "outputId": "c48c2b44-f664-4b84-f1be-e0b278ca939b"
      },
      "execution_count": null,
      "outputs": [
        {
          "output_type": "stream",
          "name": "stdout",
          "text": [
            "XYZ Academy XYZ Academy\n"
          ]
        }
      ]
    },
    {
      "cell_type": "code",
      "source": [
        "s1.age = 25\n",
        "print(s1.age)\n",
        "print(s2.age)"
      ],
      "metadata": {
        "colab": {
          "base_uri": "https://localhost:8080/"
        },
        "id": "dObtOZZBRJcl",
        "outputId": "70cd8712-3371-45df-c948-479aadfedc5a"
      },
      "execution_count": null,
      "outputs": [
        {
          "output_type": "stream",
          "name": "stdout",
          "text": [
            "25\n",
            "22\n"
          ]
        }
      ]
    },
    {
      "cell_type": "code",
      "source": [],
      "metadata": {
        "id": "V8aGj954RUxz"
      },
      "execution_count": null,
      "outputs": []
    }
  ]
}