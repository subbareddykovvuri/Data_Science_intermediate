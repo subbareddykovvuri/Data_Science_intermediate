{
  "nbformat": 4,
  "nbformat_minor": 0,
  "metadata": {
    "colab": {
      "provenance": []
    },
    "kernelspec": {
      "name": "python3",
      "display_name": "Python 3"
    },
    "language_info": {
      "name": "python"
    }
  },
  "cells": [
    {
      "cell_type": "code",
      "source": [
        "class Car:\n",
        "  def __init__(self,name,mileage):\n",
        "    self.name = name\n",
        "    self.mileage = mileage\n",
        "\n",
        "  def __str__(self):\n",
        "    return f\"{self.name} name with mileage as {self.mileage} \"\n",
        "\n",
        "  def __add__(self,other):\n",
        "    return self.mileage + other.mileage\n",
        "\n",
        "  def __lt__(self,other):\n",
        "    return self.mileage < other.mileage\n",
        "\n",
        "  def __call__(self):\n",
        "    print(\"I was called in this Class\")\n",
        "\n",
        "  #def __add__(self,other):\n",
        "    #return Car(self.name + \"&\" +other.name, self.mileage + other.mileage)"
      ],
      "metadata": {
        "id": "nYEDiHfnFGu3"
      },
      "execution_count": null,
      "outputs": []
    },
    {
      "cell_type": "code",
      "source": [
        "c1 = Car(\"Nexon\",15)\n",
        "c2 = Car(\"Scorpio\",13)\n",
        "#c3 = Car(\"Thar\",10)"
      ],
      "metadata": {
        "id": "rIKdqWohLuyV"
      },
      "execution_count": null,
      "outputs": []
    },
    {
      "cell_type": "code",
      "source": [
        "print(c1)"
      ],
      "metadata": {
        "colab": {
          "base_uri": "https://localhost:8080/"
        },
        "id": "41aSvW53L167",
        "outputId": "8f0ede65-147e-47ce-f586-28c4f51847ef"
      },
      "execution_count": null,
      "outputs": [
        {
          "output_type": "stream",
          "name": "stdout",
          "text": [
            "Nexon name with mileage as 15 \n"
          ]
        }
      ]
    },
    {
      "cell_type": "code",
      "source": [
        "c1 + c2"
      ],
      "metadata": {
        "colab": {
          "base_uri": "https://localhost:8080/"
        },
        "id": "goKWV1AtL73a",
        "outputId": "070a96cf-9f13-434e-d307-15870c32cc78"
      },
      "execution_count": null,
      "outputs": [
        {
          "output_type": "execute_result",
          "data": {
            "text/plain": [
              "28"
            ]
          },
          "metadata": {},
          "execution_count": 56
        }
      ]
    },
    {
      "cell_type": "code",
      "source": [
        "c1 + c2 + Car(\"Thar\",10) # Pending State"
      ],
      "metadata": {
        "colab": {
          "base_uri": "https://localhost:8080/",
          "height": 149
        },
        "id": "B-SgMK6zNnHD",
        "outputId": "3e01b1bc-fc74-4eb9-ea19-9ba787105620"
      },
      "execution_count": null,
      "outputs": [
        {
          "output_type": "error",
          "ename": "TypeError",
          "evalue": "unsupported operand type(s) for +: 'int' and 'Car'",
          "traceback": [
            "\u001b[0;31m---------------------------------------------------------------------------\u001b[0m",
            "\u001b[0;31mTypeError\u001b[0m                                 Traceback (most recent call last)",
            "\u001b[0;32m/tmp/ipython-input-2310884869.py\u001b[0m in \u001b[0;36m<cell line: 0>\u001b[0;34m()\u001b[0m\n\u001b[0;32m----> 1\u001b[0;31m \u001b[0mc1\u001b[0m \u001b[0;34m+\u001b[0m \u001b[0mc2\u001b[0m \u001b[0;34m+\u001b[0m \u001b[0mCar\u001b[0m\u001b[0;34m(\u001b[0m\u001b[0;34m\"Thar\"\u001b[0m\u001b[0;34m,\u001b[0m\u001b[0;36m10\u001b[0m\u001b[0;34m)\u001b[0m \u001b[0;31m# Pending State\u001b[0m\u001b[0;34m\u001b[0m\u001b[0;34m\u001b[0m\u001b[0m\n\u001b[0m",
            "\u001b[0;31mTypeError\u001b[0m: unsupported operand type(s) for +: 'int' and 'Car'"
          ]
        }
      ]
    },
    {
      "cell_type": "code",
      "source": [
        "c1 < c2"
      ],
      "metadata": {
        "colab": {
          "base_uri": "https://localhost:8080/"
        },
        "id": "pPU5ShI1Oujk",
        "outputId": "3be62398-7090-4e60-b51d-f92802611ee3"
      },
      "execution_count": null,
      "outputs": [
        {
          "output_type": "execute_result",
          "data": {
            "text/plain": [
              "False"
            ]
          },
          "metadata": {},
          "execution_count": 58
        }
      ]
    },
    {
      "cell_type": "code",
      "source": [
        "c1()"
      ],
      "metadata": {
        "colab": {
          "base_uri": "https://localhost:8080/"
        },
        "id": "e3CpsvqrP_JU",
        "outputId": "69c584fc-52c1-4838-d390-7c512ea8c31d"
      },
      "execution_count": null,
      "outputs": [
        {
          "output_type": "stream",
          "name": "stdout",
          "text": [
            "I was called in this Class\n"
          ]
        }
      ]
    },
    {
      "cell_type": "code",
      "source": [
        "class SchoolMember:\n",
        "  def __init__(self,name):\n",
        "    self.name = name\n",
        "\n",
        "class Student(SchoolMember):\n",
        "  def __init__(self,name,grade):\n",
        "    super().__init__(name)\n",
        "    #self.name = name\n",
        "    self.grade = grade\n",
        "\n",
        "class Staff(SchoolMember):\n",
        "  def __init__(self,name,salary):\n",
        "    super().__init__(name)\n",
        "    #self.name = name\n",
        "    self.salary = salary\n",
        "\n",
        "class Teacher(Staff):\n",
        "  def __init__(self,name,salary,subject):\n",
        "    super().__init__(name,salary)\n",
        "    self.subject = subject"
      ],
      "metadata": {
        "id": "u5UXAbI9QVSL"
      },
      "execution_count": null,
      "outputs": []
    },
    {
      "cell_type": "code",
      "source": [
        "s1 = Student(\"Nishtha\",\"A\")"
      ],
      "metadata": {
        "id": "1Lc9e58GSNtE"
      },
      "execution_count": null,
      "outputs": []
    },
    {
      "cell_type": "code",
      "source": [
        "type(s1)"
      ],
      "metadata": {
        "colab": {
          "base_uri": "https://localhost:8080/",
          "height": 104
        },
        "id": "HnL636HSSqVp",
        "outputId": "27ad9abb-7edf-459d-feb9-e06c3a7a71b5"
      },
      "execution_count": null,
      "outputs": [
        {
          "output_type": "execute_result",
          "data": {
            "text/plain": [
              "__main__.Student"
            ],
            "text/html": [
              "<div style=\"max-width:800px; border: 1px solid var(--colab-border-color);\"><style>\n",
              "      pre.function-repr-contents {\n",
              "        overflow-x: auto;\n",
              "        padding: 8px 12px;\n",
              "        max-height: 500px;\n",
              "      }\n",
              "\n",
              "      pre.function-repr-contents.function-repr-contents-collapsed {\n",
              "        cursor: pointer;\n",
              "        max-height: 100px;\n",
              "      }\n",
              "    </style>\n",
              "    <pre style=\"white-space: initial; background:\n",
              "         var(--colab-secondary-surface-color); padding: 8px 12px;\n",
              "         border-bottom: 1px solid var(--colab-border-color);\"><b>Student</b><br/>def __init__(name, grade)</pre><pre class=\"function-repr-contents function-repr-contents-collapsed\" style=\"\"><a class=\"filepath\" style=\"display:none\" href=\"#\"></a>&lt;no docstring&gt;</pre></div>"
            ]
          },
          "metadata": {},
          "execution_count": 82
        }
      ]
    },
    {
      "cell_type": "code",
      "source": [
        "s1.grade"
      ],
      "metadata": {
        "colab": {
          "base_uri": "https://localhost:8080/",
          "height": 36
        },
        "id": "b0ew4zEgSrnj",
        "outputId": "ae9d0802-85a4-4f32-eb6b-b82f9ea85d66"
      },
      "execution_count": null,
      "outputs": [
        {
          "output_type": "execute_result",
          "data": {
            "text/plain": [
              "'A'"
            ],
            "application/vnd.google.colaboratory.intrinsic+json": {
              "type": "string"
            }
          },
          "metadata": {},
          "execution_count": 83
        }
      ]
    },
    {
      "cell_type": "code",
      "source": [
        "s1.name"
      ],
      "metadata": {
        "colab": {
          "base_uri": "https://localhost:8080/",
          "height": 36
        },
        "id": "_NC--UWoSu6a",
        "outputId": "dbe4cdab-c6bc-4446-aabc-b0fb5985eb3d"
      },
      "execution_count": null,
      "outputs": [
        {
          "output_type": "execute_result",
          "data": {
            "text/plain": [
              "'Nishtha'"
            ],
            "application/vnd.google.colaboratory.intrinsic+json": {
              "type": "string"
            }
          },
          "metadata": {},
          "execution_count": 84
        }
      ]
    },
    {
      "cell_type": "code",
      "source": [
        "print(s1.name)\n",
        "s1.name = \"Random\"\n",
        "print(s1.name)"
      ],
      "metadata": {
        "colab": {
          "base_uri": "https://localhost:8080/"
        },
        "id": "jsIZNQMPS6Ba",
        "outputId": "eed2f31d-f7aa-4c34-c5e5-9c11fccae616"
      },
      "execution_count": null,
      "outputs": [
        {
          "output_type": "stream",
          "name": "stdout",
          "text": [
            "Nishtha\n",
            "Random\n"
          ]
        }
      ]
    },
    {
      "cell_type": "code",
      "source": [
        "t1 = Teacher(\"Amit\",1000,\"Sql And Python\")\n",
        "print(t1.name,t1.salary,t1.subject)"
      ],
      "metadata": {
        "colab": {
          "base_uri": "https://localhost:8080/"
        },
        "id": "O4Ml3lBjUP2t",
        "outputId": "6a367d1b-2bba-4505-9b90-63e389825664"
      },
      "execution_count": null,
      "outputs": [
        {
          "output_type": "stream",
          "name": "stdout",
          "text": [
            "Amit 1000 Sql And Python\n"
          ]
        }
      ]
    },
    {
      "cell_type": "code",
      "source": [
        "class BankAccount:\n",
        "    def __init__(self, balance):\n",
        "        self.balance = balance\n",
        "\n",
        "    def withdrawl(self, amount):\n",
        "        self.balance -= amount\n",
        "\n",
        "    def deposit(self, amount):\n",
        "        self.balance += amount"
      ],
      "metadata": {
        "id": "igCwnEeCU4YD"
      },
      "execution_count": null,
      "outputs": []
    },
    {
      "cell_type": "code",
      "source": [
        "b1 = BankAccount(10000)\n",
        "b1.deposit(2000)\n",
        "b1.withdrawl(5000)\n",
        "\n",
        "b1.balance"
      ],
      "metadata": {
        "colab": {
          "base_uri": "https://localhost:8080/"
        },
        "id": "gK9NGdreVN9T",
        "outputId": "fe135c1c-c186-459c-893b-260f73278c50"
      },
      "execution_count": null,
      "outputs": [
        {
          "output_type": "execute_result",
          "data": {
            "text/plain": [
              "7000"
            ]
          },
          "metadata": {},
          "execution_count": 89
        }
      ]
    },
    {
      "cell_type": "code",
      "source": [
        "b1.balance = 12456215673127817837189372189\n",
        "b1.balance"
      ],
      "metadata": {
        "colab": {
          "base_uri": "https://localhost:8080/"
        },
        "id": "fSUGo54uVgF6",
        "outputId": "f5d24f34-bf95-4174-b427-009bd8ec1f78"
      },
      "execution_count": null,
      "outputs": [
        {
          "output_type": "execute_result",
          "data": {
            "text/plain": [
              "12456215673127817837189372189"
            ]
          },
          "metadata": {},
          "execution_count": 90
        }
      ]
    },
    {
      "cell_type": "code",
      "source": [
        "b1.withdrawl(77867868687678)\n",
        "b1.balance"
      ],
      "metadata": {
        "colab": {
          "base_uri": "https://localhost:8080/"
        },
        "id": "5Saa9hIsVoUH",
        "outputId": "9e2f4be9-4503-40b1-bc3b-ffe2460391b6"
      },
      "execution_count": null,
      "outputs": [
        {
          "output_type": "execute_result",
          "data": {
            "text/plain": [
              "12456215673127739969320684511"
            ]
          },
          "metadata": {},
          "execution_count": 91
        }
      ]
    },
    {
      "cell_type": "code",
      "source": [
        "#default Python behavior\n",
        "\n",
        "class Demo:\n",
        "  def __init__(self):\n",
        "    self.name = \"Public\"\n",
        "\n",
        "\n",
        "obj = Demo()\n",
        "print(obj.name)"
      ],
      "metadata": {
        "colab": {
          "base_uri": "https://localhost:8080/"
        },
        "id": "j_xrsYw7VsCC",
        "outputId": "0977de7b-00a9-4428-bb80-f3a9a7b8dd20"
      },
      "execution_count": null,
      "outputs": [
        {
          "output_type": "stream",
          "name": "stdout",
          "text": [
            "Public\n"
          ]
        }
      ]
    },
    {
      "cell_type": "code",
      "source": [
        "#protected Python behavior\n",
        "\n",
        "class Demo:\n",
        "  def __init__(self):\n",
        "    self._name = \"Protected\"\n",
        "\n",
        "\n",
        "obj = Demo()\n",
        "print(obj._name)"
      ],
      "metadata": {
        "colab": {
          "base_uri": "https://localhost:8080/"
        },
        "id": "2PkUY6xfWoEX",
        "outputId": "ae106920-8f56-4ecc-8194-b1e0da16bd43"
      },
      "execution_count": null,
      "outputs": [
        {
          "output_type": "stream",
          "name": "stdout",
          "text": [
            "Protected\n"
          ]
        }
      ]
    },
    {
      "cell_type": "code",
      "source": [
        "#private Python behavior\n",
        "\n",
        "class Demo:\n",
        "  def __init__(self):\n",
        "    self.__name = \"Private\"\n",
        "\n",
        "\n",
        "obj = Demo()\n",
        "#print(obj.__name)\n",
        "\n",
        "print(obj._Demo__name)"
      ],
      "metadata": {
        "colab": {
          "base_uri": "https://localhost:8080/"
        },
        "id": "t3zvZN4MW2JH",
        "outputId": "aa2f58fe-c9b0-49b5-eaba-3062640421e9"
      },
      "execution_count": null,
      "outputs": [
        {
          "output_type": "stream",
          "name": "stdout",
          "text": [
            "Private\n"
          ]
        }
      ]
    },
    {
      "cell_type": "code",
      "source": [
        "dir(obj)"
      ],
      "metadata": {
        "colab": {
          "base_uri": "https://localhost:8080/"
        },
        "id": "s4QzR-r0W-Dt",
        "outputId": "e886699d-3a83-43fc-ce62-8149900c8475"
      },
      "execution_count": null,
      "outputs": [
        {
          "output_type": "execute_result",
          "data": {
            "text/plain": [
              "['_Demo__name',\n",
              " '__class__',\n",
              " '__delattr__',\n",
              " '__dict__',\n",
              " '__dir__',\n",
              " '__doc__',\n",
              " '__eq__',\n",
              " '__format__',\n",
              " '__ge__',\n",
              " '__getattribute__',\n",
              " '__getstate__',\n",
              " '__gt__',\n",
              " '__hash__',\n",
              " '__init__',\n",
              " '__init_subclass__',\n",
              " '__le__',\n",
              " '__lt__',\n",
              " '__module__',\n",
              " '__ne__',\n",
              " '__new__',\n",
              " '__reduce__',\n",
              " '__reduce_ex__',\n",
              " '__repr__',\n",
              " '__setattr__',\n",
              " '__sizeof__',\n",
              " '__str__',\n",
              " '__subclasshook__',\n",
              " '__weakref__']"
            ]
          },
          "metadata": {},
          "execution_count": 99
        }
      ]
    },
    {
      "cell_type": "code",
      "source": [
        "class Base:\n",
        "    def __init__(self):\n",
        "        self.__data = \"Base data\"\n",
        "\n",
        "class Child(Base):\n",
        "    def __init__(self):\n",
        "        super().__init__()\n",
        "        self.__data = \"Child data\"\n",
        "\n",
        "obj = Child()\n",
        "print(obj.__dict__)"
      ],
      "metadata": {
        "colab": {
          "base_uri": "https://localhost:8080/"
        },
        "id": "036hOXP6aZU3",
        "outputId": "ccaddff7-1eb6-497f-8162-f331025e239a"
      },
      "execution_count": null,
      "outputs": [
        {
          "output_type": "stream",
          "name": "stdout",
          "text": [
            "{'_Base__data': 'Base data', '_Child__data': 'Child data'}\n"
          ]
        }
      ]
    },
    {
      "cell_type": "code",
      "source": [
        "class A:\n",
        "    x = 10\n",
        "\n",
        "class B(A):\n",
        "    pass\n",
        "\n",
        "class C(B):\n",
        "    pass\n",
        "\n",
        "class D(A):\n",
        "    x = 5\n",
        "\n",
        "class E(C, D):\n",
        "    pass"
      ],
      "metadata": {
        "id": "rOhKsT9raywL"
      },
      "execution_count": null,
      "outputs": []
    },
    {
      "cell_type": "code",
      "source": [
        "e1 = E()\n",
        "e1.x"
      ],
      "metadata": {
        "colab": {
          "base_uri": "https://localhost:8080/"
        },
        "id": "1fRg-6KcdZbI",
        "outputId": "fdcc5e5e-47a4-4613-e925-337a1839300e"
      },
      "execution_count": null,
      "outputs": [
        {
          "output_type": "execute_result",
          "data": {
            "text/plain": [
              "5"
            ]
          },
          "metadata": {},
          "execution_count": 102
        }
      ]
    },
    {
      "cell_type": "code",
      "source": [
        "E.__mro__"
      ],
      "metadata": {
        "colab": {
          "base_uri": "https://localhost:8080/"
        },
        "id": "l1tK-eFwdcvn",
        "outputId": "b2b2ff20-22a0-4b5c-a1d3-767c9a134e87"
      },
      "execution_count": null,
      "outputs": [
        {
          "output_type": "execute_result",
          "data": {
            "text/plain": [
              "(__main__.E, __main__.C, __main__.B, __main__.D, __main__.A, object)"
            ]
          },
          "metadata": {},
          "execution_count": 103
        }
      ]
    },
    {
      "cell_type": "code",
      "source": [
        "class A:\n",
        "    def show(self):\n",
        "        print(\"A\")\n",
        "\n",
        "class B(A):\n",
        "    def show(self):\n",
        "        print(\"B\")\n",
        "\n",
        "class C(A):\n",
        "    def show(self):\n",
        "        print(\"C\")\n",
        "\n",
        "class D(B, C):\n",
        "    pass\n",
        "\n",
        "d = D()\n",
        "d.show()\n",
        "\n",
        "print(D.mro())"
      ],
      "metadata": {
        "colab": {
          "base_uri": "https://localhost:8080/"
        },
        "id": "S6rp97Jodgk6",
        "outputId": "aa86a9b6-26ea-4843-f7bd-a241c4839ab1"
      },
      "execution_count": null,
      "outputs": [
        {
          "output_type": "stream",
          "name": "stdout",
          "text": [
            "B\n",
            "[<class '__main__.D'>, <class '__main__.B'>, <class '__main__.C'>, <class '__main__.A'>, <class 'object'>]\n"
          ]
        }
      ]
    },
    {
      "cell_type": "code",
      "source": [
        "class A:\n",
        "    def show(self):\n",
        "        print(\"Class A\")\n",
        "\n",
        "class B(A):\n",
        "    def show(self):\n",
        "        print(\"Class B\")\n",
        "\n",
        "class C(A):\n",
        "    def show(self):\n",
        "        print(\"Class C\")\n",
        "\n",
        "class D(B, C):\n",
        "    pass\n",
        "\n",
        "d = D()\n",
        "d.show()\n",
        "\n",
        "print(D.mro())"
      ],
      "metadata": {
        "colab": {
          "base_uri": "https://localhost:8080/"
        },
        "id": "XV9lMnXJenW1",
        "outputId": "40bd0a97-42f0-4b57-8d4b-51c1b5ed7d3b"
      },
      "execution_count": null,
      "outputs": [
        {
          "output_type": "stream",
          "name": "stdout",
          "text": [
            "Class B\n",
            "[<class '__main__.D'>, <class '__main__.B'>, <class '__main__.C'>, <class '__main__.A'>, <class 'object'>]\n"
          ]
        }
      ]
    },
    {
      "cell_type": "code",
      "source": [
        "class A:\n",
        "    def show(self):\n",
        "        print(\"Class A\")\n",
        "\n",
        "class B(A):\n",
        "    def show(self):\n",
        "        print(\"Class B\")\n",
        "\n",
        "class C(A):\n",
        "    def show(self):\n",
        "        print(\"Class C\")\n",
        "\n",
        "class D(B, C):\n",
        "    def show(self):\n",
        "        print(\"Class D\")\n",
        "\n",
        "d = D()\n",
        "d.show()\n",
        "print(D.mro())"
      ],
      "metadata": {
        "colab": {
          "base_uri": "https://localhost:8080/"
        },
        "id": "kE0EtMkLfKRD",
        "outputId": "e6b7d815-ee64-4ef1-d167-6a695bd082c4"
      },
      "execution_count": null,
      "outputs": [
        {
          "output_type": "stream",
          "name": "stdout",
          "text": [
            "Class D\n",
            "[<class '__main__.D'>, <class '__main__.B'>, <class '__main__.C'>, <class '__main__.A'>, <class 'object'>]\n"
          ]
        }
      ]
    },
    {
      "cell_type": "code",
      "source": [
        "class Car:\n",
        "  def __init__(self,name,mileage):\n",
        "    self.name = name\n",
        "    self.mileage = mileage\n",
        "\n",
        "  def __str__(self):\n",
        "    return f\"{self.name} name with mileage as {self.mileage} \"\n",
        "\n",
        "  #def __add__(self,other):\n",
        "    #return self.mileage + other.mileage\n",
        "\n",
        "  def __lt__(self,other):\n",
        "    return self.mileage < other.mileage\n",
        "\n",
        "  def __call__(self):\n",
        "    print(\"I was called in this Class\")\n",
        "\n",
        "  def __add__(self, other):\n",
        "        if isinstance(other, Car):\n",
        "            return Car(self.name + \"+\" + other.name, self.mileage + other.mileage)\n",
        "        return NotImplemented\n",
        "\n",
        "  def __rdd__(self,other):\n",
        "    return self.__add__(other)\n"
      ],
      "metadata": {
        "id": "IxEvkq5QfqWx"
      },
      "execution_count": null,
      "outputs": []
    },
    {
      "cell_type": "code",
      "source": [
        "c1 = Car(\"Nexon\",12)\n",
        "c2 = Car(\"Scorpio\",15)\n",
        "c3 = Car(\"BMW\",17)"
      ],
      "metadata": {
        "id": "Vl7upIDPgQLN"
      },
      "execution_count": null,
      "outputs": []
    },
    {
      "cell_type": "code",
      "source": [
        "c1 + c2 + c3"
      ],
      "metadata": {
        "colab": {
          "base_uri": "https://localhost:8080/"
        },
        "id": "iZVW7KMEga27",
        "outputId": "646b7251-c134-4525-93da-69e4b7f46bc3"
      },
      "execution_count": null,
      "outputs": [
        {
          "output_type": "execute_result",
          "data": {
            "text/plain": [
              "<__main__.Car at 0x7fb138a78d40>"
            ]
          },
          "metadata": {},
          "execution_count": 123
        }
      ]
    },
    {
      "cell_type": "code",
      "source": [
        "class A:\n",
        "    print(\"Am I a class?\")\n",
        "\n",
        "a = A()\n",
        "print(id(a))\n",
        "obj1 = A()\n",
        "print(id(obj1))\n",
        "if A():\n",
        "    b = A()\n",
        "    print(id(b))"
      ],
      "metadata": {
        "colab": {
          "base_uri": "https://localhost:8080/"
        },
        "id": "3-2bnKk1ghRI",
        "outputId": "fdf65244-b95b-4ee5-ba1a-ddb9dadf26f7"
      },
      "execution_count": null,
      "outputs": [
        {
          "output_type": "stream",
          "name": "stdout",
          "text": [
            "Am I a class?\n",
            "140399136555328\n",
            "140399689291904\n",
            "140399141667712\n"
          ]
        }
      ]
    },
    {
      "cell_type": "code",
      "source": [
        "class Student:\n",
        "    def __init__(random, id, age):\n",
        "        self.id = id\n",
        "        self.age = age\n",
        "\n",
        "s1 = Student(1, 5000)"
      ],
      "metadata": {
        "id": "BRm7TlghhzR5"
      },
      "execution_count": null,
      "outputs": []
    },
    {
      "cell_type": "code",
      "source": [
        "class A:\n",
        "    def __init__(self, name):\n",
        "        self.name = name\n",
        "\n",
        "a1 = A(\"Bunty\")\n",
        "a2 = A(\"Babli\")\n",
        "\n",
        "print(id(a1) == id(a2))"
      ],
      "metadata": {
        "colab": {
          "base_uri": "https://localhost:8080/"
        },
        "id": "94dhrPamiZFX",
        "outputId": "0ad56bc2-02ea-4965-fd68-858f8d58cfab"
      },
      "execution_count": null,
      "outputs": [
        {
          "output_type": "stream",
          "name": "stdout",
          "text": [
            "False\n"
          ]
        }
      ]
    },
    {
      "cell_type": "code",
      "source": [
        "class Counter:\n",
        "    def __init__(self):\n",
        "        self.count=5\n",
        "        self.count=count+1\n",
        "\n",
        "c = Counter()\n",
        "print(c.count)"
      ],
      "metadata": {
        "colab": {
          "base_uri": "https://localhost:8080/",
          "height": 335
        },
        "id": "5OOm2MaUioa8",
        "outputId": "a575cd61-4344-4f8d-f67e-4e27dcefb4db"
      },
      "execution_count": null,
      "outputs": [
        {
          "output_type": "error",
          "ename": "NameError",
          "evalue": "name 'count' is not defined",
          "traceback": [
            "\u001b[0;31m---------------------------------------------------------------------------\u001b[0m",
            "\u001b[0;31mNameError\u001b[0m                                 Traceback (most recent call last)",
            "\u001b[0;32m/tmp/ipython-input-3584704305.py\u001b[0m in \u001b[0;36m<cell line: 0>\u001b[0;34m()\u001b[0m\n\u001b[1;32m      4\u001b[0m         \u001b[0mself\u001b[0m\u001b[0;34m.\u001b[0m\u001b[0mcount\u001b[0m\u001b[0;34m=\u001b[0m\u001b[0mcount\u001b[0m\u001b[0;34m+\u001b[0m\u001b[0;36m1\u001b[0m\u001b[0;34m\u001b[0m\u001b[0;34m\u001b[0m\u001b[0m\n\u001b[1;32m      5\u001b[0m \u001b[0;34m\u001b[0m\u001b[0m\n\u001b[0;32m----> 6\u001b[0;31m \u001b[0mc\u001b[0m \u001b[0;34m=\u001b[0m \u001b[0mCounter\u001b[0m\u001b[0;34m(\u001b[0m\u001b[0;34m)\u001b[0m\u001b[0;34m\u001b[0m\u001b[0;34m\u001b[0m\u001b[0m\n\u001b[0m\u001b[1;32m      7\u001b[0m \u001b[0mprint\u001b[0m\u001b[0;34m(\u001b[0m\u001b[0mc\u001b[0m\u001b[0;34m.\u001b[0m\u001b[0mcount\u001b[0m\u001b[0;34m)\u001b[0m\u001b[0;34m\u001b[0m\u001b[0;34m\u001b[0m\u001b[0m\n",
            "\u001b[0;32m/tmp/ipython-input-3584704305.py\u001b[0m in \u001b[0;36m__init__\u001b[0;34m(self)\u001b[0m\n\u001b[1;32m      2\u001b[0m     \u001b[0;32mdef\u001b[0m \u001b[0m__init__\u001b[0m\u001b[0;34m(\u001b[0m\u001b[0mself\u001b[0m\u001b[0;34m)\u001b[0m\u001b[0;34m:\u001b[0m\u001b[0;34m\u001b[0m\u001b[0;34m\u001b[0m\u001b[0m\n\u001b[1;32m      3\u001b[0m         \u001b[0mself\u001b[0m\u001b[0;34m.\u001b[0m\u001b[0mcount\u001b[0m\u001b[0;34m=\u001b[0m\u001b[0;36m5\u001b[0m\u001b[0;34m\u001b[0m\u001b[0;34m\u001b[0m\u001b[0m\n\u001b[0;32m----> 4\u001b[0;31m         \u001b[0mself\u001b[0m\u001b[0;34m.\u001b[0m\u001b[0mcount\u001b[0m\u001b[0;34m=\u001b[0m\u001b[0mcount\u001b[0m\u001b[0;34m+\u001b[0m\u001b[0;36m1\u001b[0m\u001b[0;34m\u001b[0m\u001b[0;34m\u001b[0m\u001b[0m\n\u001b[0m\u001b[1;32m      5\u001b[0m \u001b[0;34m\u001b[0m\u001b[0m\n\u001b[1;32m      6\u001b[0m \u001b[0mc\u001b[0m \u001b[0;34m=\u001b[0m \u001b[0mCounter\u001b[0m\u001b[0;34m(\u001b[0m\u001b[0;34m)\u001b[0m\u001b[0;34m\u001b[0m\u001b[0;34m\u001b[0m\u001b[0m\n",
            "\u001b[0;31mNameError\u001b[0m: name 'count' is not defined"
          ]
        }
      ]
    },
    {
      "cell_type": "code",
      "source": [
        "class Random:\n",
        "    def __init__(self, a = \"Is it possible?\"):\n",
        "        self.a = a\n",
        "\n",
        "    def display(self):\n",
        "        print(self.a)\n",
        "\n",
        "r = Random()\n",
        "r.display()"
      ],
      "metadata": {
        "colab": {
          "base_uri": "https://localhost:8080/"
        },
        "id": "zQpZXRjai_lP",
        "outputId": "8c288c9a-7de6-4569-fdc3-40f3ba70bd6d"
      },
      "execution_count": null,
      "outputs": [
        {
          "output_type": "stream",
          "name": "stdout",
          "text": [
            "Is it possible?\n"
          ]
        }
      ]
    },
    {
      "cell_type": "code",
      "source": [
        "class A:\n",
        "    def __init__(self):\n",
        "        self.variable = 'Old'\n",
        "        self.update(self.variable)\n",
        "\n",
        "    def update(self, var):\n",
        "        var = 'New'\n",
        "\n",
        "a = A()\n",
        "print(a.variable)"
      ],
      "metadata": {
        "colab": {
          "base_uri": "https://localhost:8080/"
        },
        "id": "2ACFqS4YjWat",
        "outputId": "1425b5ff-43d8-4d40-f5c5-9db66545892c"
      },
      "execution_count": null,
      "outputs": [
        {
          "output_type": "stream",
          "name": "stdout",
          "text": [
            "New\n"
          ]
        }
      ]
    },
    {
      "cell_type": "code",
      "source": [
        "class A:\n",
        "    def do_something(self):\n",
        "        print(\"I do something!\")\n",
        "\n",
        "class B(A):\n",
        "    def do_something(self):\n",
        "        super().do_something()\n",
        "        print(\"I also do something!\")\n",
        "\n",
        "b = B()\n",
        "b.do_something()"
      ],
      "metadata": {
        "colab": {
          "base_uri": "https://localhost:8080/"
        },
        "id": "IaAs13E3jt69",
        "outputId": "452f733c-af2b-4d5e-b897-dc1018de583c"
      },
      "execution_count": null,
      "outputs": [
        {
          "output_type": "stream",
          "name": "stdout",
          "text": [
            "I do something!\n",
            "I also do something!\n"
          ]
        }
      ]
    },
    {
      "cell_type": "code",
      "source": [],
      "metadata": {
        "id": "IFBkEb66lKhC"
      },
      "execution_count": null,
      "outputs": []
    }
  ]
}