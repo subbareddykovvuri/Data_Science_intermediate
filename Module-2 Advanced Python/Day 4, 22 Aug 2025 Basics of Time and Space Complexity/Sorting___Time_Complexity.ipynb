{
  "nbformat": 4,
  "nbformat_minor": 0,
  "metadata": {
    "colab": {
      "provenance": []
    },
    "kernelspec": {
      "name": "python3",
      "display_name": "Python 3"
    },
    "language_info": {
      "name": "python"
    }
  },
  "cells": [
    {
      "cell_type": "code",
      "execution_count": null,
      "metadata": {
        "colab": {
          "base_uri": "https://localhost:8080/"
        },
        "id": "7EcImC9ST4ws",
        "outputId": "05e083f5-2238-4239-ef20-8d215d55a705"
      },
      "outputs": [
        {
          "output_type": "execute_result",
          "data": {
            "text/plain": [
              "{(2, 3, 4), 1, 2, 3, 'amit'}"
            ]
          },
          "metadata": {},
          "execution_count": 2
        }
      ],
      "source": [
        "#set contains only Immutable\n",
        "\n",
        "s = {1,2,3,\"amit\",(2,3,4)}\n",
        "s"
      ]
    },
    {
      "cell_type": "code",
      "source": [
        "a = [1,2,3,4,5,6]\n",
        "print(id(a))"
      ],
      "metadata": {
        "colab": {
          "base_uri": "https://localhost:8080/"
        },
        "id": "Dsqy7SqCb8Go",
        "outputId": "0b9a287c-47c7-4e59-d27a-4170ddfecb6f"
      },
      "execution_count": null,
      "outputs": [
        {
          "output_type": "stream",
          "name": "stdout",
          "text": [
            "136395299554112\n"
          ]
        }
      ]
    },
    {
      "cell_type": "code",
      "source": [
        "a.append(7)"
      ],
      "metadata": {
        "id": "V3ANxyXrcPRI"
      },
      "execution_count": null,
      "outputs": []
    },
    {
      "cell_type": "code",
      "source": [
        "a"
      ],
      "metadata": {
        "colab": {
          "base_uri": "https://localhost:8080/"
        },
        "id": "y34ovV4FcWuq",
        "outputId": "ff69761f-8834-447d-b921-0a0b08ceecc5"
      },
      "execution_count": null,
      "outputs": [
        {
          "output_type": "execute_result",
          "data": {
            "text/plain": [
              "[1, 2, 3, 4, 5, 6, 7]"
            ]
          },
          "metadata": {},
          "execution_count": 5
        }
      ]
    },
    {
      "cell_type": "code",
      "source": [
        "id(a)"
      ],
      "metadata": {
        "colab": {
          "base_uri": "https://localhost:8080/"
        },
        "id": "lU7EeHMqcX4q",
        "outputId": "c39c947e-5dee-40b7-b75e-c705078e9e39"
      },
      "execution_count": null,
      "outputs": [
        {
          "output_type": "execute_result",
          "data": {
            "text/plain": [
              "136395299554112"
            ]
          },
          "metadata": {},
          "execution_count": 6
        }
      ]
    },
    {
      "cell_type": "code",
      "source": [
        "a.append([8,9,10])\n",
        "a"
      ],
      "metadata": {
        "colab": {
          "base_uri": "https://localhost:8080/"
        },
        "id": "k5BFsNTxckii",
        "outputId": "0979a7ed-7170-4c9e-a074-4007f51a6000"
      },
      "execution_count": null,
      "outputs": [
        {
          "output_type": "execute_result",
          "data": {
            "text/plain": [
              "[1, 2, 3, 4, 5, 6, 7, [8, 9, 10]]"
            ]
          },
          "metadata": {},
          "execution_count": 7
        }
      ]
    },
    {
      "cell_type": "code",
      "source": [
        "id(a)"
      ],
      "metadata": {
        "colab": {
          "base_uri": "https://localhost:8080/"
        },
        "id": "lT07t8-ucvu3",
        "outputId": "ca002c3a-1267-4b14-daf2-910c3c7c7947"
      },
      "execution_count": null,
      "outputs": [
        {
          "output_type": "execute_result",
          "data": {
            "text/plain": [
              "136395299554112"
            ]
          },
          "metadata": {},
          "execution_count": 8
        }
      ]
    },
    {
      "cell_type": "code",
      "source": [
        "a.pop()\n",
        "a"
      ],
      "metadata": {
        "colab": {
          "base_uri": "https://localhost:8080/"
        },
        "id": "S797DfuEcx65",
        "outputId": "24912fac-a9a2-4220-aee5-7d46b3cc15cd"
      },
      "execution_count": null,
      "outputs": [
        {
          "output_type": "execute_result",
          "data": {
            "text/plain": [
              "[1, 2, 3, 4, 5, 6, 7]"
            ]
          },
          "metadata": {},
          "execution_count": 9
        }
      ]
    },
    {
      "cell_type": "code",
      "source": [
        "a.pop(3)\n",
        "a"
      ],
      "metadata": {
        "colab": {
          "base_uri": "https://localhost:8080/"
        },
        "id": "w8lv_UNndWXF",
        "outputId": "eba09490-9a3f-4147-c0cf-754ac2c04c02"
      },
      "execution_count": null,
      "outputs": [
        {
          "output_type": "execute_result",
          "data": {
            "text/plain": [
              "[1, 2, 3, 5, 6, 7]"
            ]
          },
          "metadata": {},
          "execution_count": 10
        }
      ]
    },
    {
      "cell_type": "code",
      "source": [
        "a.remove(2)\n",
        "a"
      ],
      "metadata": {
        "colab": {
          "base_uri": "https://localhost:8080/"
        },
        "id": "6eQoncz3ddoU",
        "outputId": "62f48d47-1b5e-417f-9a8d-e7d2c2c0bcc0"
      },
      "execution_count": null,
      "outputs": [
        {
          "output_type": "execute_result",
          "data": {
            "text/plain": [
              "[1, 3, 5, 6, 7]"
            ]
          },
          "metadata": {},
          "execution_count": 11
        }
      ]
    },
    {
      "cell_type": "code",
      "source": [
        "a.remove(8)\n",
        "a"
      ],
      "metadata": {
        "colab": {
          "base_uri": "https://localhost:8080/",
          "height": 167
        },
        "id": "w9uR6beLdmmv",
        "outputId": "d440f5ac-318f-47ff-f14b-a1947b5a5bdf"
      },
      "execution_count": null,
      "outputs": [
        {
          "output_type": "error",
          "ename": "ValueError",
          "evalue": "list.remove(x): x not in list",
          "traceback": [
            "\u001b[0;31m---------------------------------------------------------------------------\u001b[0m",
            "\u001b[0;31mValueError\u001b[0m                                Traceback (most recent call last)",
            "\u001b[0;32m/tmp/ipython-input-3527141437.py\u001b[0m in \u001b[0;36m<cell line: 0>\u001b[0;34m()\u001b[0m\n\u001b[0;32m----> 1\u001b[0;31m \u001b[0ma\u001b[0m\u001b[0;34m.\u001b[0m\u001b[0mremove\u001b[0m\u001b[0;34m(\u001b[0m\u001b[0;36m8\u001b[0m\u001b[0;34m)\u001b[0m\u001b[0;34m\u001b[0m\u001b[0;34m\u001b[0m\u001b[0m\n\u001b[0m\u001b[1;32m      2\u001b[0m \u001b[0ma\u001b[0m\u001b[0;34m\u001b[0m\u001b[0;34m\u001b[0m\u001b[0m\n",
            "\u001b[0;31mValueError\u001b[0m: list.remove(x): x not in list"
          ]
        }
      ]
    },
    {
      "cell_type": "code",
      "source": [
        "7 in a"
      ],
      "metadata": {
        "colab": {
          "base_uri": "https://localhost:8080/"
        },
        "id": "RTW3vZP-dw3Z",
        "outputId": "69ceb9b5-e1d4-44a4-982b-81cd834ba713"
      },
      "execution_count": null,
      "outputs": [
        {
          "output_type": "execute_result",
          "data": {
            "text/plain": [
              "True"
            ]
          },
          "metadata": {},
          "execution_count": 13
        }
      ]
    },
    {
      "cell_type": "code",
      "source": [
        "#list comprehension\n",
        "\n",
        "a = [1,2,3,4,5,6]\n",
        "b = []\n",
        "for i in a:\n",
        "  b.append(i * 2)\n",
        "\n",
        "print(b)"
      ],
      "metadata": {
        "colab": {
          "base_uri": "https://localhost:8080/"
        },
        "id": "VG9bAUAnd82I",
        "outputId": "40e25040-758c-41c0-c506-7054f5b187b0"
      },
      "execution_count": null,
      "outputs": [
        {
          "output_type": "stream",
          "name": "stdout",
          "text": [
            "[2, 4, 6, 8, 10, 12]\n"
          ]
        }
      ]
    },
    {
      "cell_type": "code",
      "source": [
        "my_numbers = [ i * 2 for i in a]\n",
        "my_numbers"
      ],
      "metadata": {
        "colab": {
          "base_uri": "https://localhost:8080/"
        },
        "id": "Ht1PJdyAeNC0",
        "outputId": "1ebd8e75-5dc7-4456-c0e0-80cfd44262d3"
      },
      "execution_count": null,
      "outputs": [
        {
          "output_type": "execute_result",
          "data": {
            "text/plain": [
              "[2, 4, 6, 8, 10, 12]"
            ]
          },
          "metadata": {},
          "execution_count": 16
        }
      ]
    },
    {
      "cell_type": "code",
      "source": [
        "#Task 2: given a list, create another list whose elements satisfy the following condition\n",
        "#i**2 if i is odd\n",
        "#i if i is even\n",
        "\n",
        "def my_logic(a):\n",
        "    if i % 2 ==0 :\n",
        "      return i\n",
        "    else:\n",
        "      return i ** 2"
      ],
      "metadata": {
        "id": "kQOlO_66fBi8"
      },
      "execution_count": null,
      "outputs": []
    },
    {
      "cell_type": "code",
      "source": [
        "a = [1,2,3,4,5,6,7,8,9,10]\n",
        "b = []\n",
        "for i in a :\n",
        "  b.append(my_logic(i))\n",
        "\n",
        "b"
      ],
      "metadata": {
        "colab": {
          "base_uri": "https://localhost:8080/"
        },
        "id": "w09jCHYUf7hh",
        "outputId": "205f27ea-1055-4035-e291-0046d551bd42"
      },
      "execution_count": null,
      "outputs": [
        {
          "output_type": "execute_result",
          "data": {
            "text/plain": [
              "[1, 2, 9, 4, 25, 6, 49, 8, 81, 10]"
            ]
          },
          "metadata": {},
          "execution_count": 30
        }
      ]
    },
    {
      "cell_type": "code",
      "source": [
        "a = [1,2,3,4,5,6,7,8,9,10]\n",
        "b = [my_logic(i) for i in a]\n",
        "\n",
        "print(b)"
      ],
      "metadata": {
        "colab": {
          "base_uri": "https://localhost:8080/"
        },
        "id": "exhIrmB6f_ZL",
        "outputId": "611a641a-58bf-4b2b-c0ae-bb9e28a669cb"
      },
      "execution_count": null,
      "outputs": [
        {
          "output_type": "stream",
          "name": "stdout",
          "text": [
            "[10, 10, 10, 10, 10, 10, 10, 10, 10, 10]\n"
          ]
        }
      ]
    },
    {
      "cell_type": "code",
      "source": [
        "#list comprehension\n",
        "\n",
        "b = [ i if i % 2 == 0 else i ** 2 for i in a]\n",
        "b"
      ],
      "metadata": {
        "colab": {
          "base_uri": "https://localhost:8080/"
        },
        "id": "mplWOyrwin8C",
        "outputId": "0ef5c3d9-1e4c-48f8-cfc4-8b1964c2321a"
      },
      "execution_count": null,
      "outputs": [
        {
          "output_type": "execute_result",
          "data": {
            "text/plain": [
              "[1, 2, 9, 4, 25, 6, 49, 8, 81, 10]"
            ]
          },
          "metadata": {},
          "execution_count": 37
        }
      ]
    },
    {
      "cell_type": "code",
      "source": [
        "# only print even values from list\n",
        "a = [1,2,3,4,5,6,7,8,9,10]\n",
        "# [2,4,6,8,10]\n",
        "\n",
        "b = [i for i in a if i%2 ==0]\n",
        "b"
      ],
      "metadata": {
        "colab": {
          "base_uri": "https://localhost:8080/"
        },
        "id": "rmzEsnefi-ZQ",
        "outputId": "cf83816f-d39e-42b6-841f-082fd9db39bd"
      },
      "execution_count": null,
      "outputs": [
        {
          "output_type": "execute_result",
          "data": {
            "text/plain": [
              "[2, 4, 6, 8, 10]"
            ]
          },
          "metadata": {},
          "execution_count": 38
        }
      ]
    },
    {
      "cell_type": "code",
      "source": [
        "n = [i  for i in a if i%2 == 0]\n",
        "n"
      ],
      "metadata": {
        "colab": {
          "base_uri": "https://localhost:8080/"
        },
        "id": "-3CYjEHyj4qY",
        "outputId": "a23233cd-cb4a-45b0-fd10-d669a85d5c81"
      },
      "execution_count": null,
      "outputs": [
        {
          "output_type": "execute_result",
          "data": {
            "text/plain": [
              "[2, 4, 6, 8, 10]"
            ]
          },
          "metadata": {},
          "execution_count": 41
        }
      ]
    },
    {
      "cell_type": "code",
      "source": [
        "random = [i+j for j in range(1,11) for i in range(1,11)]\n",
        "\n",
        "print(random)"
      ],
      "metadata": {
        "colab": {
          "base_uri": "https://localhost:8080/"
        },
        "id": "Votti-9ukBXW",
        "outputId": "b886b84f-a645-47d6-905a-9d2f244be25d"
      },
      "execution_count": null,
      "outputs": [
        {
          "output_type": "stream",
          "name": "stdout",
          "text": [
            "[2, 3, 4, 5, 6, 7, 8, 9, 10, 11, 3, 4, 5, 6, 7, 8, 9, 10, 11, 12, 4, 5, 6, 7, 8, 9, 10, 11, 12, 13, 5, 6, 7, 8, 9, 10, 11, 12, 13, 14, 6, 7, 8, 9, 10, 11, 12, 13, 14, 15, 7, 8, 9, 10, 11, 12, 13, 14, 15, 16, 8, 9, 10, 11, 12, 13, 14, 15, 16, 17, 9, 10, 11, 12, 13, 14, 15, 16, 17, 18, 10, 11, 12, 13, 14, 15, 16, 17, 18, 19, 11, 12, 13, 14, 15, 16, 17, 18, 19, 20]\n"
          ]
        }
      ]
    },
    {
      "cell_type": "code",
      "source": [
        "random_order = [str(i)+(j) for i in [1,2,3] for j in ['a', 'b', 'c']]\n",
        "\n",
        "print(random_order)"
      ],
      "metadata": {
        "colab": {
          "base_uri": "https://localhost:8080/"
        },
        "id": "Hu0cm8Wsk6R5",
        "outputId": "5751c22a-82ea-4f8f-80e6-54ea9ffe4b09"
      },
      "execution_count": null,
      "outputs": [
        {
          "output_type": "stream",
          "name": "stdout",
          "text": [
            "['1a', '1b', '1c', '2a', '2b', '2c', '3a', '3b', '3c']\n"
          ]
        }
      ]
    },
    {
      "cell_type": "code",
      "source": [
        "s = {i**2 for i in range(1,11)}\n",
        "s"
      ],
      "metadata": {
        "colab": {
          "base_uri": "https://localhost:8080/"
        },
        "id": "OsH3gimgljA1",
        "outputId": "40f14ca1-21e8-4320-f043-0d2608285941"
      },
      "execution_count": null,
      "outputs": [
        {
          "output_type": "execute_result",
          "data": {
            "text/plain": [
              "{1, 4, 9, 16, 25, 36, 49, 64, 81, 100}"
            ]
          },
          "metadata": {},
          "execution_count": 44
        }
      ]
    },
    {
      "cell_type": "code",
      "source": [
        "b = [[\"\"]*3]*3\n",
        "b"
      ],
      "metadata": {
        "colab": {
          "base_uri": "https://localhost:8080/"
        },
        "id": "l7twpGCimGCh",
        "outputId": "9c1db8b0-a38f-4eba-dd3f-ad5f29b44485"
      },
      "execution_count": null,
      "outputs": [
        {
          "output_type": "execute_result",
          "data": {
            "text/plain": [
              "[['', '', ''], ['', '', ''], ['', '', '']]"
            ]
          },
          "metadata": {},
          "execution_count": 45
        }
      ]
    },
    {
      "cell_type": "code",
      "source": [
        "id(b[0]) == id(b[1]) == id(b[2])"
      ],
      "metadata": {
        "colab": {
          "base_uri": "https://localhost:8080/"
        },
        "id": "iDXqYVRanJIb",
        "outputId": "66b76261-f52b-4690-ea1c-4114195ecec4"
      },
      "execution_count": null,
      "outputs": [
        {
          "output_type": "execute_result",
          "data": {
            "text/plain": [
              "True"
            ]
          },
          "metadata": {},
          "execution_count": 46
        }
      ]
    },
    {
      "cell_type": "code",
      "source": [
        "id(b[0][1]) == id(b[1][0]) == id(b[2][1])"
      ],
      "metadata": {
        "colab": {
          "base_uri": "https://localhost:8080/"
        },
        "id": "tv49_WL2nXd6",
        "outputId": "679ceff5-ce44-4e92-efe1-bc68fad726a9"
      },
      "execution_count": null,
      "outputs": [
        {
          "output_type": "execute_result",
          "data": {
            "text/plain": [
              "True"
            ]
          },
          "metadata": {},
          "execution_count": 47
        }
      ]
    },
    {
      "cell_type": "code",
      "source": [
        "#Time Complexity\n",
        "\n",
        "def fun(N):\n",
        "  s = 0\n",
        "  for i in range(1, N+1):\n",
        "    s += i\n",
        "  return s\n",
        "\n",
        "fun(10)"
      ],
      "metadata": {
        "colab": {
          "base_uri": "https://localhost:8080/"
        },
        "id": "a1cJBHAxngcO",
        "outputId": "49d1d198-44b9-456f-dc67-a7ea5b196736"
      },
      "execution_count": null,
      "outputs": [
        {
          "output_type": "execute_result",
          "data": {
            "text/plain": [
              "55"
            ]
          },
          "metadata": {},
          "execution_count": 48
        }
      ]
    },
    {
      "cell_type": "code",
      "source": [
        "def fun(N, M):\n",
        "  s = 0\n",
        "  for i in range(1, N+1):\n",
        "    s += i\n",
        "  for j in range(1, M+1):\n",
        "    s += j\n",
        "  return s"
      ],
      "metadata": {
        "id": "x9G_k-0ep5Lf"
      },
      "execution_count": null,
      "outputs": []
    },
    {
      "cell_type": "code",
      "source": [
        "def fun(N):\n",
        "  i = 1\n",
        "  while i < N:\n",
        "    i += 2"
      ],
      "metadata": {
        "id": "ICcqhIK_q9Nq"
      },
      "execution_count": null,
      "outputs": []
    },
    {
      "cell_type": "code",
      "source": [
        "def fun(N):\n",
        "  s = 0\n",
        "  for i in range(1, 101):\n",
        "    s += i\n",
        "  return s"
      ],
      "metadata": {
        "id": "wnWEByShsWaj"
      },
      "execution_count": null,
      "outputs": []
    },
    {
      "cell_type": "code",
      "source": [
        "random = {}\n",
        "random[1.1] = \"JavaScript\"\n",
        "random[1.0] = \"Python\"\n",
        "random[1] = \"C++\"\n",
        "random[True] = \"JAVA\"\n",
        "random[1+0j] = \"TypeScript\"\n",
        "\n",
        "print(f\"{random[1.1]} and {random[True]}\")"
      ],
      "metadata": {
        "colab": {
          "base_uri": "https://localhost:8080/"
        },
        "id": "n-bYMKowsWs8",
        "outputId": "27d5f196-c0b6-4d5d-f415-351360b25a3b"
      },
      "execution_count": null,
      "outputs": [
        {
          "output_type": "stream",
          "name": "stdout",
          "text": [
            "JavaScript and TypeScript\n"
          ]
        }
      ]
    },
    {
      "cell_type": "markdown",
      "source": [],
      "metadata": {
        "id": "RPlg0xC2uUKs"
      }
    },
    {
      "cell_type": "code",
      "source": [
        "[ i+j+k for k in [\"I\"] for j in [\"am\"] for i in [\"weird\"] ]"
      ],
      "metadata": {
        "colab": {
          "base_uri": "https://localhost:8080/"
        },
        "id": "1iiVqsbZt4Li",
        "outputId": "60883ce2-41eb-4fe5-8463-2d48bd8f917f"
      },
      "execution_count": null,
      "outputs": [
        {
          "output_type": "execute_result",
          "data": {
            "text/plain": [
              "['weirdamI']"
            ]
          },
          "metadata": {},
          "execution_count": 53
        }
      ]
    },
    {
      "cell_type": "code",
      "source": [
        "def fun(N):\n",
        "  s = 0\n",
        "  for i in range(1, int(N**0.5)):\n",
        "    s += i\n",
        "  return s"
      ],
      "metadata": {
        "id": "J4YtxsULuUqo"
      },
      "execution_count": null,
      "outputs": []
    },
    {
      "cell_type": "code",
      "source": [
        "def fun(N):\n",
        "  i = N\n",
        "  while i >= 1:\n",
        "    i = i // 2"
      ],
      "metadata": {
        "id": "9Z2RRw46vOOT"
      },
      "execution_count": null,
      "outputs": []
    },
    {
      "cell_type": "code",
      "source": [
        "#### Question: What will be the time complexity of the following program?\n",
        "def fun(N):\n",
        "  i = 0\n",
        "  while i <= N:\n",
        "    i = i * 2"
      ],
      "metadata": {
        "id": "H5xAjSwMw1rW"
      },
      "execution_count": null,
      "outputs": []
    },
    {
      "cell_type": "code",
      "source": [
        "def binary_search(arr, target):\n",
        "    left, right = 0, len(arr)-1\n",
        "    while left <= right:\n",
        "        mid = (left + right) // 2\n",
        "        if arr[mid] == target:\n",
        "            return mid\n",
        "        elif arr[mid] < target:\n",
        "            left = mid + 1\n",
        "        else:\n",
        "            right = mid - 1\n",
        "    return -1\n"
      ],
      "metadata": {
        "id": "9b4ZtfPmxdts"
      },
      "execution_count": null,
      "outputs": []
    },
    {
      "cell_type": "code",
      "source": [
        "arr = [1, 3, 5, 7, 9, 11]\n",
        "print(binary_search(arr, 7))"
      ],
      "metadata": {
        "colab": {
          "base_uri": "https://localhost:8080/"
        },
        "id": "LTkmibNNxsxD",
        "outputId": "74169a0d-8010-4afd-9d3a-0d8b1791f37c"
      },
      "execution_count": null,
      "outputs": [
        {
          "output_type": "stream",
          "name": "stdout",
          "text": [
            "3\n"
          ]
        }
      ]
    },
    {
      "cell_type": "code",
      "source": [
        "def count_digits(n):\n",
        "    count = 0\n",
        "    while n > 0:\n",
        "        n //= 10   # drop last digit\n",
        "        count += 1\n",
        "    print(\"Digits:\", count)"
      ],
      "metadata": {
        "id": "_gQfZOVOxuo1"
      },
      "execution_count": null,
      "outputs": []
    },
    {
      "cell_type": "code",
      "source": [
        "def fun(N):\n",
        "  s = 0\n",
        "  for i in range(N):\n",
        "    for j in range(N):\n",
        "      s += j\n",
        "  return s"
      ],
      "metadata": {
        "id": "SfGlY92rzOpZ"
      },
      "execution_count": null,
      "outputs": []
    },
    {
      "cell_type": "code",
      "source": [
        "def fun(N):\n",
        "  s = 0\n",
        "  for i in range(10):\n",
        "    for j in range(N):\n",
        "      s += j\n",
        "  return s"
      ],
      "metadata": {
        "id": "SIuIosXC0CWh"
      },
      "execution_count": null,
      "outputs": []
    },
    {
      "cell_type": "code",
      "source": [
        "def fun(N):\n",
        "  s = 0\n",
        "  for i in range(N):\n",
        "    j = 1\n",
        "    while j <= N:\n",
        "      j = j * 2\n",
        "  return s"
      ],
      "metadata": {
        "id": "_TgsVjy-050e"
      },
      "execution_count": null,
      "outputs": []
    },
    {
      "cell_type": "code",
      "source": [
        "#Nishtha Code\n",
        "def flatten(a):\n",
        "  result = []\n",
        "  while a:\n",
        "    element = a.pop()\n",
        "    if type(element) == list:\n",
        "      a.extend(element)\n",
        "    else:\n",
        "      result.append(element)\n",
        "  result.sort()\n",
        "\n",
        "  return result"
      ],
      "metadata": {
        "id": "P3pKjATD3oAB"
      },
      "execution_count": null,
      "outputs": []
    }
  ]
}