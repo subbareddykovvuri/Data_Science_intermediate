{
  "nbformat": 4,
  "nbformat_minor": 0,
  "metadata": {
    "colab": {
      "provenance": []
    },
    "kernelspec": {
      "name": "python3",
      "display_name": "Python 3"
    },
    "language_info": {
      "name": "python"
    }
  },
  "cells": [
    {
      "cell_type": "code",
      "execution_count": null,
      "metadata": {
        "id": "75258PAN1Kgv",
        "colab": {
          "base_uri": "https://localhost:8080/"
        },
        "outputId": "f22ab14d-7874-4747-d915-e81926ff56f0"
      },
      "outputs": [
        {
          "output_type": "execute_result",
          "data": {
            "text/plain": [
              "16"
            ]
          },
          "metadata": {},
          "execution_count": 1
        }
      ],
      "source": [
        "x = 5\n",
        "\n",
        "x = 3 * x\n",
        "x += 1\n",
        "\n",
        "x"
      ]
    },
    {
      "cell_type": "code",
      "source": [
        "#option 1 create a new object evrey time\n",
        "\n",
        "x = 5\n",
        "\n",
        "x1 = 3 *x\n",
        "x2 = x1 + 1\n",
        "\n",
        "x"
      ],
      "metadata": {
        "colab": {
          "base_uri": "https://localhost:8080/"
        },
        "id": "NLQmBs6m7V_l",
        "outputId": "ba9baba0-eb1f-4157-a753-e063400c3d21"
      },
      "execution_count": null,
      "outputs": [
        {
          "output_type": "execute_result",
          "data": {
            "text/plain": [
              "5"
            ]
          },
          "metadata": {},
          "execution_count": 2
        }
      ]
    },
    {
      "cell_type": "code",
      "source": [
        "x = 5\n",
        "\n",
        "def mutation(x):\n",
        "  x = 3 * x\n",
        "  x += 1\n",
        "  return x"
      ],
      "metadata": {
        "id": "tHKtwPJk8GRB"
      },
      "execution_count": null,
      "outputs": []
    },
    {
      "cell_type": "code",
      "source": [
        "x1 = mutation(x)\n",
        "x1"
      ],
      "metadata": {
        "colab": {
          "base_uri": "https://localhost:8080/"
        },
        "id": "4-99lX_688Me",
        "outputId": "e2daf9d5-8abf-4264-b2c9-7a109a575046"
      },
      "execution_count": null,
      "outputs": [
        {
          "output_type": "execute_result",
          "data": {
            "text/plain": [
              "16"
            ]
          },
          "metadata": {},
          "execution_count": 4
        }
      ]
    },
    {
      "cell_type": "code",
      "source": [
        "x"
      ],
      "metadata": {
        "colab": {
          "base_uri": "https://localhost:8080/"
        },
        "id": "7pXsA-wC9DGZ",
        "outputId": "3b97a3ce-5848-4915-a88c-f831c04fe560"
      },
      "execution_count": null,
      "outputs": [
        {
          "output_type": "execute_result",
          "data": {
            "text/plain": [
              "5"
            ]
          },
          "metadata": {},
          "execution_count": 5
        }
      ]
    },
    {
      "cell_type": "code",
      "source": [
        "a = [1,2,3,4,5,6,7,8,9]\n",
        "\n",
        "res = [i**2 for i in a]"
      ],
      "metadata": {
        "id": "rs5qs1zT9EmE"
      },
      "execution_count": null,
      "outputs": []
    },
    {
      "cell_type": "code",
      "source": [
        "res"
      ],
      "metadata": {
        "id": "txQAi8H2_LSM",
        "colab": {
          "base_uri": "https://localhost:8080/"
        },
        "outputId": "eca838cf-3ed5-47ed-ffa8-6f054ba9d7f3"
      },
      "execution_count": null,
      "outputs": [
        {
          "output_type": "execute_result",
          "data": {
            "text/plain": [
              "[1, 4, 9, 16, 25, 36, 49, 64, 81]"
            ]
          },
          "metadata": {},
          "execution_count": 14
        }
      ]
    },
    {
      "cell_type": "code",
      "source": [
        "#using map function\n",
        "\n",
        "res_1 = map(lambda x : x ** 2,a)\n",
        "\n",
        "print(list(res_1))"
      ],
      "metadata": {
        "colab": {
          "base_uri": "https://localhost:8080/"
        },
        "id": "RUZW3oBd_dQS",
        "outputId": "3da64dfa-a109-4768-a0f7-a52be194a0c0"
      },
      "execution_count": null,
      "outputs": [
        {
          "output_type": "stream",
          "name": "stdout",
          "text": [
            "[1, 4, 9, 16, 25, 36, 49, 64, 81]\n"
          ]
        }
      ]
    },
    {
      "cell_type": "code",
      "source": [
        "#Convert strings to uppercase\n",
        "\n",
        "names = [\"amit\", \"aryan\", \"rahul\"]\n",
        "uppercase_names = list(map(str.upper, names))\n",
        "print(uppercase_names)\n",
        "#names = [\"AMIT\", \"ARYAN\", \"RAHUL\"]"
      ],
      "metadata": {
        "colab": {
          "base_uri": "https://localhost:8080/"
        },
        "id": "zLwLeu_O_-0y",
        "outputId": "01767d79-7dc0-4b27-88a0-2ff700528d9e"
      },
      "execution_count": null,
      "outputs": [
        {
          "output_type": "stream",
          "name": "stdout",
          "text": [
            "['AMIT', 'ARYAN', 'RAHUL']\n"
          ]
        }
      ]
    },
    {
      "cell_type": "code",
      "source": [
        "#Add two lists element-wise\n",
        "\n",
        "a = [1, 2, 3]\n",
        "b = [10, 20, 30]\n",
        "\n",
        "result = list(map(lambda x, y: x + y, a, b))\n",
        "print(result)\n",
        "\n",
        "#[11, 22, 33]"
      ],
      "metadata": {
        "colab": {
          "base_uri": "https://localhost:8080/"
        },
        "id": "j2q_HUO8Ari8",
        "outputId": "84d80214-b057-46eb-c52a-c5a09dba95dc"
      },
      "execution_count": null,
      "outputs": [
        {
          "output_type": "stream",
          "name": "stdout",
          "text": [
            "[11, 22, 33]\n"
          ]
        }
      ]
    },
    {
      "cell_type": "code",
      "source": [
        "#Task 2: Convert given height to t-shirt size\n",
        "#h < 150 -> S\n",
        "#h >= 150 and h < 180 -> M\n",
        "#h >= 180 -> L\n",
        "\n",
        "heights = [144, 167, 189, 170, 190, 150, 165, 178, 200, 130]"
      ],
      "metadata": {
        "id": "BC2zHpOhBadW"
      },
      "execution_count": null,
      "outputs": []
    },
    {
      "cell_type": "code",
      "source": [
        "def height_chart(height):\n",
        "  if height < 150:\n",
        "    return \"S\"\n",
        "  elif height >= 150 and height < 180:\n",
        "    return \"M\"\n",
        "  else:\n",
        "    return \"L\"\n"
      ],
      "metadata": {
        "id": "7NPDGmAGB-0x"
      },
      "execution_count": null,
      "outputs": []
    },
    {
      "cell_type": "code",
      "source": [
        "sizes = list(map(height_chart,heights))\n",
        "sizes"
      ],
      "metadata": {
        "colab": {
          "base_uri": "https://localhost:8080/"
        },
        "id": "lZ3sCTneCau2",
        "outputId": "a09db9e1-bbee-4cd0-ebe4-585eba0cdee0"
      },
      "execution_count": null,
      "outputs": [
        {
          "output_type": "execute_result",
          "data": {
            "text/plain": [
              "['S', 'M', 'L', 'M', 'L', 'M', 'M', 'M', 'L', 'S']"
            ]
          },
          "metadata": {},
          "execution_count": 27
        }
      ]
    },
    {
      "cell_type": "code",
      "source": [
        "sizes_1 = list(map(lambda x:\"S\" if x < 150 else \"M\" if x >=150 and x < 180 else \"L\",heights))\n",
        "sizes_1"
      ],
      "metadata": {
        "colab": {
          "base_uri": "https://localhost:8080/"
        },
        "id": "gmkEoi00CjyM",
        "outputId": "95b9c929-cf0d-4b9f-9bec-f02cfc16ccd6"
      },
      "execution_count": null,
      "outputs": [
        {
          "output_type": "execute_result",
          "data": {
            "text/plain": [
              "['S', 'M', 'L', 'M', 'L', 'M', 'M', 'M', 'L', 'S']"
            ]
          },
          "metadata": {},
          "execution_count": 28
        }
      ]
    },
    {
      "cell_type": "code",
      "source": [
        "#Task 3: Given two lists A and B having 1s and 0s,\n",
        "# find another list with element at index i as True if A[i] == B[i] else False\n",
        "\n",
        "A = [1,0,0,1,1,1,0,0,0,1,0,1]\n",
        "B = [0,0,1,1,0,1,1,1,0,0,0,0]\n",
        "\n",
        "# C = [True, True, False.........] True = if both A,B have same element else false\n",
        "\n",
        "C = list(map(lambda x,y:True if x==y else False,a,b))\n",
        "C"
      ],
      "metadata": {
        "colab": {
          "base_uri": "https://localhost:8080/"
        },
        "id": "USqEvOAkDSLj",
        "outputId": "2d3cf55b-2cc1-4b67-d91a-abba9ce61d72"
      },
      "execution_count": null,
      "outputs": [
        {
          "output_type": "execute_result",
          "data": {
            "text/plain": [
              "[False, False, False]"
            ]
          },
          "metadata": {},
          "execution_count": 29
        }
      ]
    },
    {
      "cell_type": "code",
      "source": [
        "C= list(map(lambda x, y: x == y, A, B))\n",
        "C"
      ],
      "metadata": {
        "colab": {
          "base_uri": "https://localhost:8080/"
        },
        "id": "-SyXMeNCE7nB",
        "outputId": "5e87ce16-a6cb-4e82-9012-5ff690e1d433"
      },
      "execution_count": null,
      "outputs": [
        {
          "output_type": "execute_result",
          "data": {
            "text/plain": [
              "[False, True, False, True, False, True, False, False, True, False, True, False]"
            ]
          },
          "metadata": {},
          "execution_count": 38
        }
      ]
    },
    {
      "cell_type": "code",
      "source": [
        "#Process multiple lists\n",
        "\n",
        "marks = [80, 90, 70]\n",
        "weights = [0.5, 0.3, 0.2]\n",
        "\n",
        "res = list(map(lambda m,w: m*w, marks, weights))\n",
        "total = sum(res)\n",
        "\n",
        "print(res,total)\n",
        "\n",
        "#[40.0, 27.0, 14.0] -->  # 81.0"
      ],
      "metadata": {
        "colab": {
          "base_uri": "https://localhost:8080/"
        },
        "id": "LRsKrDfYFCLI",
        "outputId": "d83bdc11-6f61-4014-db93-4aae4f9a0114"
      },
      "execution_count": null,
      "outputs": [
        {
          "output_type": "stream",
          "name": "stdout",
          "text": [
            "[40.0, 27.0, 14.0] 81.0\n"
          ]
        }
      ]
    },
    {
      "cell_type": "code",
      "source": [
        "weighted = list(map(lambda m, w: m * w, marks, weights))\n",
        "print(weighted)\n",
        "print(sum(weighted))"
      ],
      "metadata": {
        "colab": {
          "base_uri": "https://localhost:8080/"
        },
        "id": "kTR2bvOwHJpQ",
        "outputId": "de10578d-71d1-4769-e0e4-b5de1a7ede68"
      },
      "execution_count": null,
      "outputs": [
        {
          "output_type": "stream",
          "name": "stdout",
          "text": [
            "[40.0, 27.0, 14.0]\n",
            "81.0\n"
          ]
        }
      ]
    },
    {
      "cell_type": "code",
      "source": [
        "a = list(range(1,11))\n",
        "\n",
        "a"
      ],
      "metadata": {
        "colab": {
          "base_uri": "https://localhost:8080/"
        },
        "id": "83HduFuiHWIs",
        "outputId": "315e8b7a-d050-4cba-cd6b-9c760715ea40"
      },
      "execution_count": null,
      "outputs": [
        {
          "output_type": "execute_result",
          "data": {
            "text/plain": [
              "[1, 2, 3, 4, 5, 6, 7, 8, 9, 10]"
            ]
          },
          "metadata": {},
          "execution_count": 45
        }
      ]
    },
    {
      "cell_type": "code",
      "source": [
        "filter_output = list(filter(lambda x:x % 2 == 0,a))\n",
        "filter_output"
      ],
      "metadata": {
        "colab": {
          "base_uri": "https://localhost:8080/"
        },
        "id": "qFD3SCfTJmfS",
        "outputId": "fc3f7d7b-8894-42c6-9b7a-a2136c4169a4"
      },
      "execution_count": null,
      "outputs": [
        {
          "output_type": "execute_result",
          "data": {
            "text/plain": [
              "[2, 4, 6, 8, 10]"
            ]
          },
          "metadata": {},
          "execution_count": 47
        }
      ]
    },
    {
      "cell_type": "code",
      "source": [
        "filter_output = list(filter(lambda x:x % 2 == 0,[1, 2, 3, 4, 5, 6, 7, 8, 9, 10]))"
      ],
      "metadata": {
        "id": "8BSz6xpAJyN4"
      },
      "execution_count": null,
      "outputs": []
    },
    {
      "cell_type": "code",
      "source": [
        "filter_output"
      ],
      "metadata": {
        "colab": {
          "base_uri": "https://localhost:8080/"
        },
        "id": "NJS1RoNQJ5Br",
        "outputId": "adfa0254-f42b-43d1-9f1e-c7b32f2cfa2f"
      },
      "execution_count": null,
      "outputs": [
        {
          "output_type": "execute_result",
          "data": {
            "text/plain": [
              "[2, 4, 6, 8, 10]"
            ]
          },
          "metadata": {},
          "execution_count": 49
        }
      ]
    },
    {
      "cell_type": "code",
      "source": [
        "words = [\"python\", \"java\", \"c\", \"cpp\", \"golang\", \"rust\", \"js\"]\n",
        "#Use filter() to select words that have more than 3 characters.\n",
        "\n",
        "output = list(filter(lambda x :len(x) > 3, words))\n",
        "output"
      ],
      "metadata": {
        "colab": {
          "base_uri": "https://localhost:8080/"
        },
        "id": "ysNPO-FAJ6Hc",
        "outputId": "ccc283e6-2c4e-476d-daf4-1c3bcd32cd86"
      },
      "execution_count": null,
      "outputs": [
        {
          "output_type": "execute_result",
          "data": {
            "text/plain": [
              "['python', 'java', 'golang', 'rust']"
            ]
          },
          "metadata": {},
          "execution_count": 50
        }
      ]
    },
    {
      "cell_type": "code",
      "source": [
        "students = [(\"Amit\", 85), (\"Aryan\", 40), (\"Rahul\", 72), (\"Neha\", 30)]\n",
        "\n",
        "#Filter students who passed (score ≥ 50)\n",
        "\n",
        "output = list(map(lambda x:x[0],list(filter(lambda x:x[1]>=50,students))))\n",
        "output"
      ],
      "metadata": {
        "colab": {
          "base_uri": "https://localhost:8080/"
        },
        "id": "mfR00A3hKW0G",
        "outputId": "b6f411f2-4766-4dba-c941-f541df640495"
      },
      "execution_count": null,
      "outputs": [
        {
          "output_type": "execute_result",
          "data": {
            "text/plain": [
              "['Amit', 'Rahul']"
            ]
          },
          "metadata": {},
          "execution_count": 60
        }
      ]
    },
    {
      "cell_type": "code",
      "source": [
        "#Filter prime numbers from 1 to 50\n",
        "\n",
        "\n",
        "#[2, 3, 5, 7, 11, 13, 17, 19, 23, 29, 31, 37, 41, 43, 47]\n",
        "input = list(range(1,51))\n",
        "def prime_numbers(n):\n",
        "  if n < 2:\n",
        "    return False\n",
        "  for i in range (2, int(n ** 0.5) +1):\n",
        "    if n % i == 0:\n",
        "        return False\n",
        "  return True"
      ],
      "metadata": {
        "id": "mQ9ZaEsVLSvd"
      },
      "execution_count": null,
      "outputs": []
    },
    {
      "cell_type": "code",
      "source": [
        "ans = list(filter(prime_numbers,input))\n",
        "ans"
      ],
      "metadata": {
        "colab": {
          "base_uri": "https://localhost:8080/"
        },
        "id": "B_0qofTOMx40",
        "outputId": "8e0cdd61-a597-44a5-e5da-f17e3110ee4f"
      },
      "execution_count": null,
      "outputs": [
        {
          "output_type": "execute_result",
          "data": {
            "text/plain": [
              "[2, 3, 5, 7, 11, 13, 17, 19, 23, 29, 31, 37, 41, 43, 47]"
            ]
          },
          "metadata": {},
          "execution_count": 68
        }
      ]
    },
    {
      "cell_type": "code",
      "source": [
        "numbers = list(range(1,51))\n",
        "primes = list(filter(\n",
        "    lambda n: n > 1 and len([i for i in range(2, int(n**0.5) + 1) if n % i == 0]) == 0,\n",
        "    numbers\n",
        "))"
      ],
      "metadata": {
        "id": "mOll6CqoOo9f"
      },
      "execution_count": null,
      "outputs": []
    },
    {
      "cell_type": "code",
      "source": [
        "primes"
      ],
      "metadata": {
        "colab": {
          "base_uri": "https://localhost:8080/"
        },
        "id": "ztg1R65CPvLD",
        "outputId": "03051ff9-5f61-4905-800b-f2d600649410"
      },
      "execution_count": null,
      "outputs": [
        {
          "output_type": "execute_result",
          "data": {
            "text/plain": [
              "[2, 3, 5, 7, 11, 13, 17, 19, 23, 29, 31, 37, 41, 43, 47]"
            ]
          },
          "metadata": {},
          "execution_count": 71
        }
      ]
    },
    {
      "cell_type": "code",
      "source": [
        "numbers = list(range(1, 11))\n",
        "\n",
        "result = list(\n",
        "    map(lambda x: x**2, filter(lambda n: n % 2 == 0, numbers))\n",
        ")\n",
        "\n",
        "print(result)"
      ],
      "metadata": {
        "colab": {
          "base_uri": "https://localhost:8080/"
        },
        "id": "3acocGwyPv86",
        "outputId": "4edf6c8c-825e-45d9-8899-8dca5a3f4cfb"
      },
      "execution_count": null,
      "outputs": [
        {
          "output_type": "stream",
          "name": "stdout",
          "text": [
            "[4, 16, 36, 64, 100]\n"
          ]
        }
      ]
    },
    {
      "cell_type": "code",
      "source": [
        "a = [1,2,3]\n",
        "b = [\"a\", \"b\", \"c\", \"d\", \"e\"]\n",
        "\n",
        "result = list(zip(a,b))\n",
        "\n",
        "result"
      ],
      "metadata": {
        "colab": {
          "base_uri": "https://localhost:8080/"
        },
        "id": "pxKUQpu8QOGU",
        "outputId": "cddcd825-d384-4524-e09e-120cf68f6b40"
      },
      "execution_count": null,
      "outputs": [
        {
          "output_type": "execute_result",
          "data": {
            "text/plain": [
              "[(1, 'a'), (2, 'b'), (3, 'c')]"
            ]
          },
          "metadata": {},
          "execution_count": 73
        }
      ]
    },
    {
      "cell_type": "code",
      "source": [
        "a = [1,2,3]\n",
        "b = [\"a\", \"b\", \"c\", \"d\", \"e\"]\n",
        "c = [\"x\", \"y\", \"z\", \"m\", \"n\"]\n",
        "\n",
        "\n",
        "result = list(zip(c, b,a))\n",
        "result"
      ],
      "metadata": {
        "colab": {
          "base_uri": "https://localhost:8080/"
        },
        "id": "vwvZonItRPCx",
        "outputId": "9ced11a5-590a-416d-a9bd-8694fc6a0188"
      },
      "execution_count": null,
      "outputs": [
        {
          "output_type": "execute_result",
          "data": {
            "text/plain": [
              "[('x', 'a', 1), ('y', 'b', 2), ('z', 'c', 3)]"
            ]
          },
          "metadata": {},
          "execution_count": 75
        }
      ]
    },
    {
      "cell_type": "code",
      "source": [
        "from functools import reduce\n",
        "\n",
        "numbers = [1,2,3,4,5]\n",
        "\n",
        "result = reduce(lambda x,y : x + y,numbers)\n",
        "\n",
        "result"
      ],
      "metadata": {
        "colab": {
          "base_uri": "https://localhost:8080/"
        },
        "id": "ot-vxZQJRb74",
        "outputId": "216affc3-46f1-431b-8e7b-b634f41204f0"
      },
      "execution_count": null,
      "outputs": [
        {
          "output_type": "execute_result",
          "data": {
            "text/plain": [
              "15"
            ]
          },
          "metadata": {},
          "execution_count": 76
        }
      ]
    },
    {
      "cell_type": "code",
      "source": [
        "#find the maxium element from element\n",
        "\n",
        "n = [7,11,9,3,6,4,2]\n",
        "\n",
        "result = reduce(lambda x,y: x if x > y else y,n)\n",
        "\n",
        "result"
      ],
      "metadata": {
        "colab": {
          "base_uri": "https://localhost:8080/"
        },
        "id": "iAxC-9ybSGmS",
        "outputId": "a135cc37-986d-49c2-9048-007a3bf12347"
      },
      "execution_count": null,
      "outputs": [
        {
          "output_type": "execute_result",
          "data": {
            "text/plain": [
              "11"
            ]
          },
          "metadata": {},
          "execution_count": 78
        }
      ]
    },
    {
      "cell_type": "code",
      "source": [
        "#Multiply all numbers\n",
        "\n",
        "numbers = [1, 2, 3, 4, 5]\n",
        "#outupt = 120\n",
        "\n",
        "res = reduce(lambda x,y: x*y, numbers)\n",
        "res"
      ],
      "metadata": {
        "colab": {
          "base_uri": "https://localhost:8080/"
        },
        "id": "SKtRFiokSled",
        "outputId": "20120bbc-3be6-466e-b81f-9f6dc826d7ff"
      },
      "execution_count": null,
      "outputs": [
        {
          "output_type": "execute_result",
          "data": {
            "text/plain": [
              "120"
            ]
          },
          "metadata": {},
          "execution_count": 79
        }
      ]
    },
    {
      "cell_type": "code",
      "source": [
        "def sum_number(x, y):\n",
        "    return x + y"
      ],
      "metadata": {
        "id": "MCRPOsV1TCZ4"
      },
      "execution_count": null,
      "outputs": []
    },
    {
      "cell_type": "code",
      "source": [
        "res = sum_number(6,7)\n",
        "res"
      ],
      "metadata": {
        "colab": {
          "base_uri": "https://localhost:8080/"
        },
        "id": "sEuLXJO0Tbu-",
        "outputId": "71e8be10-e2d1-4ce8-ce22-ee5c74d720ab"
      },
      "execution_count": null,
      "outputs": [
        {
          "output_type": "execute_result",
          "data": {
            "text/plain": [
              "13"
            ]
          },
          "metadata": {},
          "execution_count": 81
        }
      ]
    },
    {
      "cell_type": "code",
      "source": [
        "sum_number(5,6,7,8,9,10,11,12,13,14,15,16)"
      ],
      "metadata": {
        "colab": {
          "base_uri": "https://localhost:8080/",
          "height": 149
        },
        "id": "Z6OcJrMzTduh",
        "outputId": "f95ca173-8594-4285-f6f2-66f222504e40"
      },
      "execution_count": null,
      "outputs": [
        {
          "output_type": "error",
          "ename": "TypeError",
          "evalue": "sum_number() takes 2 positional arguments but 12 were given",
          "traceback": [
            "\u001b[0;31m---------------------------------------------------------------------------\u001b[0m",
            "\u001b[0;31mTypeError\u001b[0m                                 Traceback (most recent call last)",
            "\u001b[0;32m/tmp/ipython-input-2898550299.py\u001b[0m in \u001b[0;36m<cell line: 0>\u001b[0;34m()\u001b[0m\n\u001b[0;32m----> 1\u001b[0;31m \u001b[0msum_number\u001b[0m\u001b[0;34m(\u001b[0m\u001b[0;36m5\u001b[0m\u001b[0;34m,\u001b[0m\u001b[0;36m6\u001b[0m\u001b[0;34m,\u001b[0m\u001b[0;36m7\u001b[0m\u001b[0;34m,\u001b[0m\u001b[0;36m8\u001b[0m\u001b[0;34m,\u001b[0m\u001b[0;36m9\u001b[0m\u001b[0;34m,\u001b[0m\u001b[0;36m10\u001b[0m\u001b[0;34m,\u001b[0m\u001b[0;36m11\u001b[0m\u001b[0;34m,\u001b[0m\u001b[0;36m12\u001b[0m\u001b[0;34m,\u001b[0m\u001b[0;36m13\u001b[0m\u001b[0;34m,\u001b[0m\u001b[0;36m14\u001b[0m\u001b[0;34m,\u001b[0m\u001b[0;36m15\u001b[0m\u001b[0;34m,\u001b[0m\u001b[0;36m16\u001b[0m\u001b[0;34m)\u001b[0m\u001b[0;34m\u001b[0m\u001b[0;34m\u001b[0m\u001b[0m\n\u001b[0m",
            "\u001b[0;31mTypeError\u001b[0m: sum_number() takes 2 positional arguments but 12 were given"
          ]
        }
      ]
    },
    {
      "cell_type": "code",
      "source": [
        "def sum_number(x, y,*args):\n",
        "    result = x + y\n",
        "    if args:\n",
        "      result += sum(args)\n",
        "    return result"
      ],
      "metadata": {
        "id": "YOFqUcEbTp9h"
      },
      "execution_count": null,
      "outputs": []
    },
    {
      "cell_type": "code",
      "source": [
        "sum_number(5,6,7,8,9,10,11,12,13,14,15,16)"
      ],
      "metadata": {
        "colab": {
          "base_uri": "https://localhost:8080/"
        },
        "id": "E0zpQIk1UXMS",
        "outputId": "528a28fb-b7e0-45e4-d0c4-835eaee49d81"
      },
      "execution_count": null,
      "outputs": [
        {
          "output_type": "execute_result",
          "data": {
            "text/plain": [
              "126"
            ]
          },
          "metadata": {},
          "execution_count": 84
        }
      ]
    },
    {
      "cell_type": "code",
      "source": [
        "def create_person(name, age, gender):\n",
        "    Person = {\n",
        "        \"name\": name,\n",
        "        \"age\": age,\n",
        "        \"gender\": gender\n",
        "    }\n",
        "\n",
        "    return Person"
      ],
      "metadata": {
        "id": "Tt_x0N_fUXsE"
      },
      "execution_count": null,
      "outputs": []
    },
    {
      "cell_type": "code",
      "source": [
        "p1 = create_person(name = \"Rohit\", age = 1500, gender = \"Male\")"
      ],
      "metadata": {
        "id": "2Mgm9ZNFU6mL"
      },
      "execution_count": null,
      "outputs": []
    },
    {
      "cell_type": "code",
      "source": [
        "p1"
      ],
      "metadata": {
        "colab": {
          "base_uri": "https://localhost:8080/"
        },
        "id": "ZEHw_Ai9U_o5",
        "outputId": "3bd4fcf2-8344-49e7-87e1-0704356db586"
      },
      "execution_count": null,
      "outputs": [
        {
          "output_type": "execute_result",
          "data": {
            "text/plain": [
              "{'name': 'Rohit', 'age': 1500, 'gender': 'Male'}"
            ]
          },
          "metadata": {},
          "execution_count": 87
        }
      ]
    },
    {
      "cell_type": "code",
      "source": [
        "def create_person(name, age, gender, **extra_info):\n",
        "    Person = {\n",
        "        \"name\": name,\n",
        "        \"age\": age,\n",
        "        \"gender\": gender\n",
        "    }\n",
        "\n",
        "    if extra_info:\n",
        "        Person.update(extra_info)\n",
        "\n",
        "    return Person"
      ],
      "metadata": {
        "id": "a4U5rjzcVAoR"
      },
      "execution_count": null,
      "outputs": []
    },
    {
      "cell_type": "code",
      "source": [
        "p2 = create_person(name = \"Rohit\", age = 1500, gender = \"Male\", color = \"blue\", hobby = \"chess\")"
      ],
      "metadata": {
        "colab": {
          "base_uri": "https://localhost:8080/"
        },
        "id": "rvjejWaJVKaL",
        "outputId": "5254dbfb-5b02-480a-d5a2-3e9e142fe534"
      },
      "execution_count": null,
      "outputs": [
        {
          "output_type": "execute_result",
          "data": {
            "text/plain": [
              "{'name': 'Rohit',\n",
              " 'age': 1500,\n",
              " 'gender': 'Male',\n",
              " 'color': 'blue',\n",
              " 'hobby': 'chess'}"
            ]
          },
          "metadata": {},
          "execution_count": 89
        }
      ]
    },
    {
      "cell_type": "code",
      "source": [
        "def random(x, y, *args, **kwargs):\n",
        "    print(x)\n",
        "    print(args)\n",
        "    print(kwargs)"
      ],
      "metadata": {
        "id": "t11TbTh0VOZY"
      },
      "execution_count": null,
      "outputs": []
    },
    {
      "cell_type": "code",
      "source": [
        "random(1,2,4,5,6,m=1,n=2,o=3,8,9,0)"
      ],
      "metadata": {
        "colab": {
          "base_uri": "https://localhost:8080/",
          "height": 111
        },
        "id": "s0lDu7poVU2F",
        "outputId": "92997547-a084-4de3-c5e0-26a4b49127bc"
      },
      "execution_count": null,
      "outputs": [
        {
          "output_type": "error",
          "ename": "SyntaxError",
          "evalue": "positional argument follows keyword argument (ipython-input-3898687063.py, line 1)",
          "traceback": [
            "\u001b[0;36m  File \u001b[0;32m\"/tmp/ipython-input-3898687063.py\"\u001b[0;36m, line \u001b[0;32m1\u001b[0m\n\u001b[0;31m    random(1,2,4,5,6,m=1,n=2,o=3,8,9,0)\u001b[0m\n\u001b[0m                                      ^\u001b[0m\n\u001b[0;31mSyntaxError\u001b[0m\u001b[0;31m:\u001b[0m positional argument follows keyword argument\n"
          ]
        }
      ]
    },
    {
      "cell_type": "code",
      "source": [
        "random(2,1,2,3,z=1)\n"
      ],
      "metadata": {
        "colab": {
          "base_uri": "https://localhost:8080/"
        },
        "id": "Qajys3WMVsnu",
        "outputId": "db283f11-481b-4467-e075-0af3ca3081d8"
      },
      "execution_count": null,
      "outputs": [
        {
          "output_type": "stream",
          "name": "stdout",
          "text": [
            "2\n",
            "(2, 3)\n",
            "{'z': 1}\n"
          ]
        }
      ]
    },
    {
      "cell_type": "code",
      "source": [],
      "metadata": {
        "id": "OxtMhcLiV-le"
      },
      "execution_count": null,
      "outputs": []
    }
  ]
}