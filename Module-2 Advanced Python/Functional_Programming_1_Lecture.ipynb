{
  "nbformat": 4,
  "nbformat_minor": 0,
  "metadata": {
    "colab": {
      "provenance": []
    },
    "kernelspec": {
      "name": "python3",
      "display_name": "Python 3"
    },
    "language_info": {
      "name": "python"
    }
  },
  "cells": [
    {
      "cell_type": "code",
      "execution_count": null,
      "metadata": {
        "colab": {
          "base_uri": "https://localhost:8080/"
        },
        "id": "M7sk-KkX9GhM",
        "outputId": "c39501bf-3f69-4353-b448-e107cb1ee791"
      },
      "outputs": [
        {
          "output_type": "stream",
          "name": "stdout",
          "text": [
            "Nexon+Scorpio+BMW with mileage 44\n",
            "Total mileage: 44\n"
          ]
        }
      ],
      "source": [
        "class Car:\n",
        "    def __init__(self, name, mileage):\n",
        "        self.name = name\n",
        "        self.mileage = mileage\n",
        "\n",
        "    def __str__(self):\n",
        "        return f\"{self.name} with mileage {self.mileage}\"\n",
        "\n",
        "    def __add__(self, other):\n",
        "        # Return a new Car object with combined data\n",
        "        return Car(self.name + \"+\" + other.name, self.mileage + other.mileage)\n",
        "\n",
        "# Create objects\n",
        "c1 = Car(\"Nexon\", 12)\n",
        "c2 = Car(\"Scorpio\", 15)\n",
        "c3 = Car(\"BMW\", 17)\n",
        "\n",
        "# Add cars\n",
        "result = c1 + c2 + c3\n",
        "print(result)             # Nexon+Scorpio+BMW with mileage 44\n",
        "print(\"Total mileage:\", result.mileage)  # 44\n"
      ]
    },
    {
      "cell_type": "code",
      "source": [
        "#define a function that squares a number\n",
        "\n",
        "def square(x):\n",
        "  return x ** 2"
      ],
      "metadata": {
        "id": "K2v9H86F9Ifz"
      },
      "execution_count": null,
      "outputs": []
    },
    {
      "cell_type": "code",
      "source": [
        "square(4)"
      ],
      "metadata": {
        "colab": {
          "base_uri": "https://localhost:8080/"
        },
        "id": "A8BnGpPhfOXq",
        "outputId": "fff51556-221d-4442-f4b7-031d5678a49b"
      },
      "execution_count": null,
      "outputs": [
        {
          "output_type": "execute_result",
          "data": {
            "text/plain": [
              "16"
            ]
          },
          "metadata": {},
          "execution_count": 3
        }
      ]
    },
    {
      "cell_type": "code",
      "source": [
        "square = lambda x : x ** 2\n",
        "square(3)"
      ],
      "metadata": {
        "colab": {
          "base_uri": "https://localhost:8080/"
        },
        "id": "b-f1BhHnfPqn",
        "outputId": "178fd887-cb40-4e6d-9391-03f203c4534c"
      },
      "execution_count": null,
      "outputs": [
        {
          "output_type": "execute_result",
          "data": {
            "text/plain": [
              "9"
            ]
          },
          "metadata": {},
          "execution_count": 4
        }
      ]
    },
    {
      "cell_type": "code",
      "source": [
        "(lambda x : x ** 2)(4)"
      ],
      "metadata": {
        "colab": {
          "base_uri": "https://localhost:8080/"
        },
        "id": "PXH2SoT1f4TJ",
        "outputId": "f5d30100-3ba8-4ff8-d107-3ec36b093086"
      },
      "execution_count": null,
      "outputs": [
        {
          "output_type": "execute_result",
          "data": {
            "text/plain": [
              "16"
            ]
          },
          "metadata": {},
          "execution_count": 5
        }
      ]
    },
    {
      "cell_type": "code",
      "source": [
        "# add two numbers\n",
        "\n",
        "def add_num(a,b):\n",
        "  return a +b"
      ],
      "metadata": {
        "id": "vnP85aoWgvMq"
      },
      "execution_count": null,
      "outputs": []
    },
    {
      "cell_type": "code",
      "source": [
        "add_num(5,6)"
      ],
      "metadata": {
        "colab": {
          "base_uri": "https://localhost:8080/"
        },
        "id": "Iy9k2mGghA8D",
        "outputId": "edd8dd72-db23-402d-aff0-8f687111905d"
      },
      "execution_count": null,
      "outputs": [
        {
          "output_type": "execute_result",
          "data": {
            "text/plain": [
              "11"
            ]
          },
          "metadata": {},
          "execution_count": 7
        }
      ]
    },
    {
      "cell_type": "code",
      "source": [
        "#lambda\n",
        "c = lambda a,b : a + b\n",
        "c(3,4)"
      ],
      "metadata": {
        "colab": {
          "base_uri": "https://localhost:8080/"
        },
        "id": "eISB86G6hCTw",
        "outputId": "bde9d987-df24-45f5-88f0-4613cb250190"
      },
      "execution_count": null,
      "outputs": [
        {
          "output_type": "execute_result",
          "data": {
            "text/plain": [
              "7"
            ]
          },
          "metadata": {},
          "execution_count": 10
        }
      ]
    },
    {
      "cell_type": "code",
      "source": [
        "#check even number\n",
        "evn= lambda x : x % 2 == 0\n",
        "evn(9)"
      ],
      "metadata": {
        "colab": {
          "base_uri": "https://localhost:8080/"
        },
        "id": "mAjrh3bIhMwE",
        "outputId": "b2851cb9-d71b-420e-8732-bda3e2a422d6"
      },
      "execution_count": null,
      "outputs": [
        {
          "output_type": "execute_result",
          "data": {
            "text/plain": [
              "False"
            ]
          },
          "metadata": {},
          "execution_count": 12
        }
      ]
    },
    {
      "cell_type": "code",
      "source": [
        "#if else clause\n",
        "\n",
        "a = lambda y:y if y > 5 else 0\n",
        "a(2)"
      ],
      "metadata": {
        "colab": {
          "base_uri": "https://localhost:8080/"
        },
        "id": "nHQfvS6EhqZb",
        "outputId": "adc870c7-533f-4859-91f4-f0842a5da376"
      },
      "execution_count": null,
      "outputs": [
        {
          "output_type": "execute_result",
          "data": {
            "text/plain": [
              "0"
            ]
          },
          "metadata": {},
          "execution_count": 14
        }
      ]
    },
    {
      "cell_type": "code",
      "source": [
        "students = [\n",
        "    {\"name\": \"A\", \"marks\": 50},\n",
        "    {\"name\": \"B\", \"marks\": 100},\n",
        "    {\"name\": \"C\", \"marks\": 40},\n",
        "    {\"name\": \"D\", \"marks\": 70},\n",
        "    {\"name\": \"E\", \"marks\": 60},\n",
        "]"
      ],
      "metadata": {
        "id": "ghJZPFS-iYlm"
      },
      "execution_count": null,
      "outputs": []
    },
    {
      "cell_type": "code",
      "source": [
        "#sort the dictionary on marks in desc order\n",
        "\n",
        "sorted(students)"
      ],
      "metadata": {
        "colab": {
          "base_uri": "https://localhost:8080/",
          "height": 186
        },
        "id": "tdUyLm2nin_A",
        "outputId": "8bb3e3c3-ede4-451b-8142-ed880a8ff47e"
      },
      "execution_count": null,
      "outputs": [
        {
          "output_type": "error",
          "ename": "TypeError",
          "evalue": "'<' not supported between instances of 'dict' and 'dict'",
          "traceback": [
            "\u001b[0;31m---------------------------------------------------------------------------\u001b[0m",
            "\u001b[0;31mTypeError\u001b[0m                                 Traceback (most recent call last)",
            "\u001b[0;32m/tmp/ipython-input-2363267433.py\u001b[0m in \u001b[0;36m<cell line: 0>\u001b[0;34m()\u001b[0m\n\u001b[1;32m      1\u001b[0m \u001b[0;31m#sort the dictionary on marks in desc order\u001b[0m\u001b[0;34m\u001b[0m\u001b[0;34m\u001b[0m\u001b[0m\n\u001b[1;32m      2\u001b[0m \u001b[0;34m\u001b[0m\u001b[0m\n\u001b[0;32m----> 3\u001b[0;31m \u001b[0msorted\u001b[0m\u001b[0;34m(\u001b[0m\u001b[0mstudents\u001b[0m\u001b[0;34m)\u001b[0m\u001b[0;34m\u001b[0m\u001b[0;34m\u001b[0m\u001b[0m\n\u001b[0m",
            "\u001b[0;31mTypeError\u001b[0m: '<' not supported between instances of 'dict' and 'dict'"
          ]
        }
      ]
    },
    {
      "cell_type": "code",
      "source": [
        "sorted(students,key = lambda x:x[\"name\"],reverse=True)"
      ],
      "metadata": {
        "colab": {
          "base_uri": "https://localhost:8080/"
        },
        "id": "R46Yemy6jUqW",
        "outputId": "5560131b-815b-4647-efb6-6945054bcf5b"
      },
      "execution_count": null,
      "outputs": [
        {
          "output_type": "execute_result",
          "data": {
            "text/plain": [
              "[{'name': 'E', 'marks': 60},\n",
              " {'name': 'D', 'marks': 70},\n",
              " {'name': 'C', 'marks': 40},\n",
              " {'name': 'B', 'marks': 100},\n",
              " {'name': 'A', 'marks': 50}]"
            ]
          },
          "metadata": {},
          "execution_count": 17
        }
      ]
    },
    {
      "cell_type": "code",
      "source": [
        "sorted(students,key = lambda x:x[\"marks\"],reverse=True)"
      ],
      "metadata": {
        "colab": {
          "base_uri": "https://localhost:8080/"
        },
        "id": "6KbVRnDyjrNi",
        "outputId": "4e8fd2e0-e2fb-425d-f14d-eba92f1893ca"
      },
      "execution_count": null,
      "outputs": [
        {
          "output_type": "execute_result",
          "data": {
            "text/plain": [
              "[{'name': 'B', 'marks': 100},\n",
              " {'name': 'D', 'marks': 70},\n",
              " {'name': 'E', 'marks': 60},\n",
              " {'name': 'A', 'marks': 50},\n",
              " {'name': 'C', 'marks': 40}]"
            ]
          },
          "metadata": {},
          "execution_count": 18
        }
      ]
    },
    {
      "cell_type": "code",
      "source": [
        "(lambda x, y: x ** y)(4,5)"
      ],
      "metadata": {
        "colab": {
          "base_uri": "https://localhost:8080/"
        },
        "id": "zOOF6KFRkHyH",
        "outputId": "343e0649-ed63-4078-bdd8-5cfd0e151ff5"
      },
      "execution_count": null,
      "outputs": [
        {
          "output_type": "execute_result",
          "data": {
            "text/plain": [
              "1024"
            ]
          },
          "metadata": {},
          "execution_count": 19
        }
      ]
    },
    {
      "cell_type": "code",
      "source": [
        "#Find maximum of two numbers using lambda\n",
        "\n",
        "(lambda x,y: x if x>y else y)(20,23)"
      ],
      "metadata": {
        "colab": {
          "base_uri": "https://localhost:8080/"
        },
        "id": "p1c_iHZbkfXU",
        "outputId": "2e548ed0-eaed-4ea7-e4a9-2a5b845a2562"
      },
      "execution_count": null,
      "outputs": [
        {
          "output_type": "execute_result",
          "data": {
            "text/plain": [
              "23"
            ]
          },
          "metadata": {},
          "execution_count": 24
        }
      ]
    },
    {
      "cell_type": "code",
      "source": [
        "(lambda a,b : a if a>b else b)(11,90)"
      ],
      "metadata": {
        "colab": {
          "base_uri": "https://localhost:8080/"
        },
        "id": "Ie8hT9BwmKDn",
        "outputId": "06c45309-cd02-4239-d6f7-63a77ba8580b"
      },
      "execution_count": null,
      "outputs": [
        {
          "output_type": "execute_result",
          "data": {
            "text/plain": [
              "90"
            ]
          },
          "metadata": {},
          "execution_count": 26
        }
      ]
    },
    {
      "cell_type": "code",
      "source": [
        "#Reverse a string using lambda\n",
        "\n",
        "#Amit --> tima\n",
        "a = lambda x:x[::-1]"
      ],
      "metadata": {
        "id": "6ZjGp2oImeYV"
      },
      "execution_count": null,
      "outputs": []
    },
    {
      "cell_type": "code",
      "source": [
        "a(\"amit\")"
      ],
      "metadata": {
        "colab": {
          "base_uri": "https://localhost:8080/",
          "height": 36
        },
        "id": "6Mqriw9onBJx",
        "outputId": "489aaec9-0039-436a-b15b-1b9e247062dc"
      },
      "execution_count": null,
      "outputs": [
        {
          "output_type": "execute_result",
          "data": {
            "text/plain": [
              "'tima'"
            ],
            "application/vnd.google.colaboratory.intrinsic+json": {
              "type": "string"
            }
          },
          "metadata": {},
          "execution_count": 28
        }
      ]
    },
    {
      "cell_type": "code",
      "source": [
        "print((lambda x:x[::-1])(\"Amit\"))"
      ],
      "metadata": {
        "colab": {
          "base_uri": "https://localhost:8080/"
        },
        "id": "faR1PaZPnDjq",
        "outputId": "959419dd-bf87-4ad2-8c72-e724f3e7bb5b"
      },
      "execution_count": null,
      "outputs": [
        {
          "output_type": "stream",
          "name": "stdout",
          "text": [
            "timA\n"
          ]
        }
      ]
    },
    {
      "cell_type": "code",
      "source": [
        "reverse_str = lambda s: s[::-1]\n",
        "reverse_str(\"amit\")"
      ],
      "metadata": {
        "colab": {
          "base_uri": "https://localhost:8080/",
          "height": 36
        },
        "id": "-r1SFDkfnGyE",
        "outputId": "e738265a-95da-48cd-8a0e-140187c796ba"
      },
      "execution_count": null,
      "outputs": [
        {
          "output_type": "execute_result",
          "data": {
            "text/plain": [
              "'tima'"
            ],
            "application/vnd.google.colaboratory.intrinsic+json": {
              "type": "string"
            }
          },
          "metadata": {},
          "execution_count": 30
        }
      ]
    },
    {
      "cell_type": "code",
      "source": [
        "#Sorting tuples by second element using lambda\n",
        "\n",
        "pairs = [(1, 3), (2, 1), (4, 5), (3, 2)]\n",
        "\n",
        "sorted(pairs,key = lambda x:x[1])\n",
        "\n",
        "#output = [(2, 1), (3, 2), (1, 3), (4, 5)]"
      ],
      "metadata": {
        "colab": {
          "base_uri": "https://localhost:8080/"
        },
        "id": "jMSwSSe_nJ7Y",
        "outputId": "bcffa352-7a96-4e3e-fcd0-be957c62957c"
      },
      "execution_count": null,
      "outputs": [
        {
          "output_type": "execute_result",
          "data": {
            "text/plain": [
              "[(2, 1), (3, 2), (1, 3), (4, 5)]"
            ]
          },
          "metadata": {},
          "execution_count": 35
        }
      ]
    },
    {
      "cell_type": "code",
      "source": [
        "def abc(n):\n",
        "  def exp(x):\n",
        "    return x ** n\n",
        "  return exp"
      ],
      "metadata": {
        "id": "1UvHkCR3n-k7"
      },
      "execution_count": null,
      "outputs": []
    },
    {
      "cell_type": "code",
      "source": [
        "z = abc(5)"
      ],
      "metadata": {
        "id": "rc7FKUD6o-Yr"
      },
      "execution_count": null,
      "outputs": []
    },
    {
      "cell_type": "code",
      "source": [
        "print(z)"
      ],
      "metadata": {
        "colab": {
          "base_uri": "https://localhost:8080/"
        },
        "id": "X44MFQ5wpJiY",
        "outputId": "e9e44a8a-0151-4c67-9e5c-4d1addaf756f"
      },
      "execution_count": null,
      "outputs": [
        {
          "output_type": "stream",
          "name": "stdout",
          "text": [
            "<function abc.<locals>.exp at 0x7d5cf7f97a60>\n"
          ]
        }
      ]
    },
    {
      "cell_type": "code",
      "source": [
        "type(z)"
      ],
      "metadata": {
        "colab": {
          "base_uri": "https://localhost:8080/"
        },
        "id": "7Z24NjwvplnS",
        "outputId": "931acd57-c653-4beb-a10d-cd804733ff3d"
      },
      "execution_count": null,
      "outputs": [
        {
          "output_type": "execute_result",
          "data": {
            "text/plain": [
              "function"
            ]
          },
          "metadata": {},
          "execution_count": 43
        }
      ]
    },
    {
      "cell_type": "code",
      "source": [
        "z(2)"
      ],
      "metadata": {
        "colab": {
          "base_uri": "https://localhost:8080/"
        },
        "id": "lqHV1Pd1pvej",
        "outputId": "9758014f-5233-4ae6-c662-210f5b8e5450"
      },
      "execution_count": null,
      "outputs": [
        {
          "output_type": "execute_result",
          "data": {
            "text/plain": [
              "32"
            ]
          },
          "metadata": {},
          "execution_count": 45
        }
      ]
    },
    {
      "cell_type": "code",
      "source": [
        "def student_discount(price):\n",
        "    return price * 0.9\n",
        "\n",
        "def senior_discount(price):\n",
        "    return price * 0.85\n",
        "\n",
        "def no_discount(price):\n",
        "    return price"
      ],
      "metadata": {
        "id": "9eZipx5Mp3Qs"
      },
      "execution_count": null,
      "outputs": []
    },
    {
      "cell_type": "code",
      "source": [
        "def apply_discount(price, discount_func):\n",
        "    return discount_func(price)\n",
        "\n",
        "# Discount functions\n",
        "student = lambda p: p * 0.9\n",
        "senior  = lambda p: p * 0.85\n",
        "normal  = lambda p: p\n",
        "\n",
        "print(apply_discount(1000, student))\n",
        "print(apply_discount(1000, senior))\n",
        "print(apply_discount(1000, normal))\n"
      ],
      "metadata": {
        "colab": {
          "base_uri": "https://localhost:8080/"
        },
        "id": "otJhsLs0s7CZ",
        "outputId": "8145c6ac-e7c6-478f-f661-47bf1c88dad3"
      },
      "execution_count": null,
      "outputs": [
        {
          "output_type": "stream",
          "name": "stdout",
          "text": [
            "900.0\n",
            "850.0\n",
            "1000\n"
          ]
        }
      ]
    },
    {
      "cell_type": "code",
      "source": [
        "def foo():\n",
        "  print(\"hello everyone ! How are you doing?\")\n",
        "\n",
        "def bar():\n",
        "  print(\"Randomly checking here\")"
      ],
      "metadata": {
        "id": "XgE8wt_StCU6"
      },
      "execution_count": null,
      "outputs": []
    },
    {
      "cell_type": "code",
      "source": [
        "foo()"
      ],
      "metadata": {
        "colab": {
          "base_uri": "https://localhost:8080/"
        },
        "id": "Ti-GPlY7uhwj",
        "outputId": "b9eff32d-24ab-4eaa-8508-dbc360d2d319"
      },
      "execution_count": null,
      "outputs": [
        {
          "output_type": "stream",
          "name": "stdout",
          "text": [
            "hello everyone ! How are you doing?\n"
          ]
        }
      ]
    },
    {
      "cell_type": "code",
      "source": [
        "bar()"
      ],
      "metadata": {
        "colab": {
          "base_uri": "https://localhost:8080/"
        },
        "id": "R7p2MyRZuiuj",
        "outputId": "86f60337-4489-4db3-d3a2-56231f56936a"
      },
      "execution_count": null,
      "outputs": [
        {
          "output_type": "stream",
          "name": "stdout",
          "text": [
            "Randomly checking here\n"
          ]
        }
      ]
    },
    {
      "cell_type": "code",
      "source": [
        "def foo():\n",
        "    print(\"-\"*50)\n",
        "    print(\"Hello everyone! How are you doing?\")\n",
        "    print(\"-\"*50)"
      ],
      "metadata": {
        "id": "K0ep8HzIujmv"
      },
      "execution_count": null,
      "outputs": []
    },
    {
      "cell_type": "code",
      "source": [
        "foo()"
      ],
      "metadata": {
        "colab": {
          "base_uri": "https://localhost:8080/"
        },
        "id": "44LGCwMFuoJo",
        "outputId": "5f094059-3027-47b8-9cee-1abf633db23a"
      },
      "execution_count": null,
      "outputs": [
        {
          "output_type": "stream",
          "name": "stdout",
          "text": [
            "--------------------------------------------------\n",
            "Hello everyone! How are you doing?\n",
            "--------------------------------------------------\n"
          ]
        }
      ]
    },
    {
      "cell_type": "code",
      "source": [
        "def bar():\n",
        "    print(\"-\"*50) # code that runs before\n",
        "    print(\"Random cliche print statement!\")\n",
        "    print(\"-\"*50) # code that runs after"
      ],
      "metadata": {
        "id": "Tc4MhX-9upKs"
      },
      "execution_count": null,
      "outputs": []
    },
    {
      "cell_type": "code",
      "source": [
        "bar()"
      ],
      "metadata": {
        "colab": {
          "base_uri": "https://localhost:8080/"
        },
        "id": "WwSJXdpsut38",
        "outputId": "e3531bc9-fe28-422c-89c2-79fea3a9a7f7"
      },
      "execution_count": null,
      "outputs": [
        {
          "output_type": "stream",
          "name": "stdout",
          "text": [
            "--------------------------------------------------\n",
            "Random cliche print statement!\n",
            "--------------------------------------------------\n"
          ]
        }
      ]
    },
    {
      "cell_type": "code",
      "source": [
        "#decorator functions\n",
        "\n",
        "def pretty(func):\n",
        "  def inner():\n",
        "    print(\"-\"*50)\n",
        "    func()\n",
        "    print(\"-\"*50)\n",
        "\n",
        "  return inner"
      ],
      "metadata": {
        "id": "WkDkzHiCuux7"
      },
      "execution_count": null,
      "outputs": []
    },
    {
      "cell_type": "code",
      "source": [
        "def foo():\n",
        "  print(\"This is demo for pretty function\")"
      ],
      "metadata": {
        "id": "8oj6_6jPvLsS"
      },
      "execution_count": null,
      "outputs": []
    },
    {
      "cell_type": "code",
      "source": [
        "new_pretty = pretty(foo)\n",
        "new_pretty()"
      ],
      "metadata": {
        "colab": {
          "base_uri": "https://localhost:8080/"
        },
        "id": "yt_jcw6MvPzg",
        "outputId": "e2762786-6b97-42ab-e62f-86b832ded7fe"
      },
      "execution_count": null,
      "outputs": [
        {
          "output_type": "stream",
          "name": "stdout",
          "text": [
            "--------------------------------------------------\n",
            "This is demo for pretty function\n",
            "--------------------------------------------------\n"
          ]
        }
      ]
    },
    {
      "cell_type": "code",
      "source": [
        "#decorator functions\n",
        "\n",
        "def pretty(func):\n",
        "  print(\"-\"*50)\n",
        "  func()\n",
        "  print(\"-\"*50)\n",
        "\n",
        "  return func"
      ],
      "metadata": {
        "id": "GiUDF5ZfvefK"
      },
      "execution_count": null,
      "outputs": []
    },
    {
      "cell_type": "code",
      "source": [
        "print(pretty(foo))"
      ],
      "metadata": {
        "colab": {
          "base_uri": "https://localhost:8080/"
        },
        "id": "y80WIjdhwsRI",
        "outputId": "9b1b80ea-376d-4335-f27a-b73e7d313439"
      },
      "execution_count": null,
      "outputs": [
        {
          "output_type": "stream",
          "name": "stdout",
          "text": [
            "--------------------------------------------------\n",
            "This is demo for pretty function\n",
            "--------------------------------------------------\n",
            "<function foo at 0x7d5cf807cd60>\n"
          ]
        }
      ]
    },
    {
      "cell_type": "code",
      "source": [
        "@pretty\n",
        "def foo():\n",
        "  print(\"Latest Function here will be executed Times\")"
      ],
      "metadata": {
        "colab": {
          "base_uri": "https://localhost:8080/"
        },
        "id": "JV5fT9GcwtvG",
        "outputId": "52aea296-23bc-4edc-d625-2fbef55b4aa9"
      },
      "execution_count": null,
      "outputs": [
        {
          "output_type": "stream",
          "name": "stdout",
          "text": [
            "--------------------------------------------------\n",
            "Latest Function here will be executed Times\n",
            "--------------------------------------------------\n"
          ]
        }
      ]
    },
    {
      "cell_type": "code",
      "source": [
        "def satya(symbol):\n",
        "  def decorator(func):\n",
        "    def inner(name):\n",
        "      print(\"-\"*50)\n",
        "      func(name)\n",
        "      print(\"-\"*50)\n",
        "    return inner\n",
        "  return decorator"
      ],
      "metadata": {
        "id": "t0vSGSXLxirJ"
      },
      "execution_count": null,
      "outputs": []
    },
    {
      "cell_type": "code",
      "source": [
        "@satya(\"*\")\n",
        "def greet():\n",
        "  print(\"Hello Amit\")"
      ],
      "metadata": {
        "id": "k4wu0Iz8yczX"
      },
      "execution_count": null,
      "outputs": []
    },
    {
      "cell_type": "code",
      "source": [
        "greet()"
      ],
      "metadata": {
        "colab": {
          "base_uri": "https://localhost:8080/"
        },
        "id": "q9L9whyRykSz",
        "outputId": "576d66d0-aa78-4a8f-ad48-0a27dac85e93"
      },
      "execution_count": null,
      "outputs": [
        {
          "output_type": "stream",
          "name": "stdout",
          "text": [
            "--------------------------------------------------\n",
            "Hello Amit\n",
            "--------------------------------------------------\n"
          ]
        }
      ]
    },
    {
      "cell_type": "code",
      "source": [
        "@satya(\"*\")\n",
        "def greet(name):\n",
        "  print(f\"Hello {name}\")"
      ],
      "metadata": {
        "id": "Qw8kacPrym7p"
      },
      "execution_count": null,
      "outputs": []
    },
    {
      "cell_type": "code",
      "source": [
        "greet(\"Amit\")"
      ],
      "metadata": {
        "colab": {
          "base_uri": "https://localhost:8080/"
        },
        "id": "RkT4vMIbzBWF",
        "outputId": "eecc4cd4-86fd-443b-a568-da0022deffc5"
      },
      "execution_count": null,
      "outputs": [
        {
          "output_type": "stream",
          "name": "stdout",
          "text": [
            "--------------------------------------------------\n",
            "Hello Amit\n",
            "--------------------------------------------------\n"
          ]
        }
      ]
    },
    {
      "cell_type": "code",
      "source": [
        "def log(func):\n",
        "    def inner(name):\n",
        "        print(\"Function is starting...\")\n",
        "        func(name)\n",
        "        print(\"Function has ended.\")\n",
        "    return inner\n",
        "\n",
        "\n",
        "@log\n",
        "def greet(name):\n",
        "    print(f\"Hello {name}!\")\n",
        "\n",
        "\n",
        "greet(\"Amit\")"
      ],
      "metadata": {
        "colab": {
          "base_uri": "https://localhost:8080/"
        },
        "id": "HGJmGzeRzC4N",
        "outputId": "4e675a70-2022-4695-cb59-13ac8dbfc831"
      },
      "execution_count": null,
      "outputs": [
        {
          "output_type": "stream",
          "name": "stdout",
          "text": [
            "Function is starting...\n",
            "Hello Amit!\n",
            "Function has ended.\n"
          ]
        }
      ]
    },
    {
      "cell_type": "code",
      "source": [
        "def requires_login(func):\n",
        "  def wrapper(user, *args, **kwargs):\n",
        "    if not user.get(\"is_logged_in\"):\n",
        "      #print(\"i am in access\")\n",
        "      print(\"⛔ Access Denied! Please log in first.\")\n",
        "      return None\n",
        "    return func(user, *args, **kwargs)\n",
        "  return wrapper"
      ],
      "metadata": {
        "id": "zdyEmj6o0S_F"
      },
      "execution_count": null,
      "outputs": []
    },
    {
      "cell_type": "code",
      "source": [
        "@requires_login\n",
        "def view_profile(user):\n",
        "  print(f\"Welcome {user['name']}, here is your profile.\")"
      ],
      "metadata": {
        "id": "hG8BNi_e0rFS"
      },
      "execution_count": null,
      "outputs": []
    },
    {
      "cell_type": "code",
      "source": [
        "user1 = {\"name\": \"Amit\", \"is_logged_in\": True}\n",
        "user2 = {\"name\": \"Rahul\", \"is_logged_in\": False}"
      ],
      "metadata": {
        "id": "4OYHJ5QA0xY7"
      },
      "execution_count": null,
      "outputs": []
    },
    {
      "cell_type": "code",
      "source": [
        "view_profile(user1)"
      ],
      "metadata": {
        "colab": {
          "base_uri": "https://localhost:8080/"
        },
        "id": "P_HuC5Ks03B0",
        "outputId": "75110357-bec9-405b-9de1-be6c56497a02"
      },
      "execution_count": null,
      "outputs": [
        {
          "output_type": "stream",
          "name": "stdout",
          "text": [
            "Welcome Amit, here is your profile.\n"
          ]
        }
      ]
    },
    {
      "cell_type": "code",
      "source": [
        "view_profile(user2)"
      ],
      "metadata": {
        "colab": {
          "base_uri": "https://localhost:8080/"
        },
        "id": "9LQDH8Yu1hjV",
        "outputId": "f9ba9e7d-d5c6-4a1c-e968-170106038215"
      },
      "execution_count": null,
      "outputs": [
        {
          "output_type": "stream",
          "name": "stdout",
          "text": [
            "⛔ Access Denied! Please log in first.\n"
          ]
        }
      ]
    },
    {
      "cell_type": "code",
      "source": [
        "class Demo:\n",
        "    def __new__(self):\n",
        "        self.__init__(self)\n",
        "        print(\"Demo's __new__() invoked\")\n",
        "\n",
        "    def __init__(self):\n",
        "        print(\"Demo's __init__() invoked\")\n",
        "\n",
        "class Derived_Demo(Demo):\n",
        "    def __new__(self):\n",
        "        self.__init__(self)\n",
        "        print(\"Derived_Demo's __new__() invoked\")\n",
        "\n",
        "    def __init__(self):\n",
        "        print(\"Derived_Demo's __init__() invoked\")\n",
        "\n",
        "def main():\n",
        "    obj1 = Derived_Demo()\n",
        "    obj2 = Demo()\n",
        "\n",
        "main()"
      ],
      "metadata": {
        "colab": {
          "base_uri": "https://localhost:8080/"
        },
        "id": "BDYOfClJ1ygQ",
        "outputId": "22e35781-8d30-465f-99c2-c6a08cf0786f"
      },
      "execution_count": null,
      "outputs": [
        {
          "output_type": "stream",
          "name": "stdout",
          "text": [
            "Derived_Demo's __init__() invoked\n",
            "Derived_Demo's __new__() invoked\n",
            "Demo's __init__() invoked\n",
            "Demo's __new__() invoked\n"
          ]
        }
      ]
    },
    {
      "cell_type": "code",
      "source": [
        "class Parent:\n",
        "  def __init__(self):\n",
        "    pass\n",
        "  def print(self):\n",
        "    print(\"60\")"
      ],
      "metadata": {
        "id": "D3Nr8wbg4_c6"
      },
      "execution_count": null,
      "outputs": []
    },
    {
      "cell_type": "code",
      "source": [
        "class Child(Parent):\n",
        "   def __init__(self):\n",
        "    super().__init__()\n",
        "   def type(self):\n",
        "    super().print()\n",
        "C=Child()\n",
        "C.type()"
      ],
      "metadata": {
        "colab": {
          "base_uri": "https://localhost:8080/"
        },
        "id": "Qp2wSM0e6keV",
        "outputId": "cbb6079f-ad94-4055-d32d-5e40e6487e98"
      },
      "execution_count": null,
      "outputs": [
        {
          "output_type": "stream",
          "name": "stdout",
          "text": [
            "60\n"
          ]
        }
      ]
    },
    {
      "cell_type": "code",
      "source": [],
      "metadata": {
        "id": "iz2n8cji6zKS"
      },
      "execution_count": null,
      "outputs": []
    }
  ]
}